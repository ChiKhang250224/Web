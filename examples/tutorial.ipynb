{
  "nbformat": 4,
  "nbformat_minor": 0,
  "metadata": {
    "colab": {
      "name": "YOLO11 Tutorial",
      "provenance": []
    },
    "kernelspec": {
      "name": "python3",
      "display_name": "Python 3"
    },
    "accelerator": "GPU"
  },
  "cells": [
    {
      "cell_type": "markdown",
      "metadata": {
        "id": "t6MPjfT5NrKQ"
      },
      "source": [
        "<div align=\"center\">\n",
        "\n",
        "  <a href=\"https://ultralytics.com/yolo\" target=\"_blank\">\n",
        "    <img width=\"1024\", src=\"https://raw.githubusercontent.com/ultralytics/assets/main/yolov8/banner-yolov8.png\"></a>\n",
        "\n",
        "  [中文](https://docs.ultralytics.com/zh/) | [한국어](https://docs.ultralytics.com/ko/) | [日本語](https://docs.ultralytics.com/ja/) | [Русский](https://docs.ultralytics.com/ru/) | [Deutsch](https://docs.ultralytics.com/de/) | [Français](https://docs.ultralytics.com/fr/) | [Español](https://docs.ultralytics.com/es/) | [Português](https://docs.ultralytics.com/pt/) | [Türkçe](https://docs.ultralytics.com/tr/) | [Tiếng Việt](https://docs.ultralytics.com/vi/) | [العربية](https://docs.ultralytics.com/ar/)\n",
        "\n",
        "  <a href=\"https://github.com/ultralytics/ultralytics/actions/workflows/ci.yaml\"><img src=\"https://github.com/ultralytics/ultralytics/actions/workflows/ci.yaml/badge.svg\" alt=\"Ultralytics CI\"></a>\n",
        "  <a href=\"https://console.paperspace.com/github/ultralytics/ultralytics\"><img src=\"https://assets.paperspace.io/img/gradient-badge.svg\" alt=\"Run on Gradient\"/></a>\n",
        "  <a href=\"https://colab.research.google.com/github/ultralytics/ultralytics/blob/main/examples/tutorial.ipynb\"><img src=\"https://colab.research.google.com/assets/colab-badge.svg\" alt=\"Open In Colab\"></a>\n",
        "  <a href=\"https://www.kaggle.com/models/ultralytics/yolo11\"><img src=\"https://kaggle.com/static/images/open-in-kaggle.svg\" alt=\"Open In Kaggle\"></a>\n",
        "\n",
        "  <a href=\"https://ultralytics.com/discord\"><img alt=\"Discord\" src=\"https://img.shields.io/discord/1089800235347353640?logo=discord&logoColor=white&label=Discord&color=blue\"></a>\n",
        "  <a href=\"https://community.ultralytics.com\"><img alt=\"Ultralytics Forums\" src=\"https://img.shields.io/discourse/users?server=https%3A%2F%2Fcommunity.ultralytics.com&logo=discourse&label=Forums&color=blue\"></a>\n",
        "  <a href=\"https://reddit.com/r/ultralytics\"><img alt=\"Ultralytics Reddit\" src=\"https://img.shields.io/reddit/subreddit-subscribers/ultralytics?style=flat&logo=reddit&logoColor=white&label=Reddit&color=blue\"></a>\n",
        "\n",
        "Welcome to the Ultralytics YOLO11 🚀 notebook! <a href=\"https://github.com/ultralytics/ultralytics\">YOLO11</a> is the latest version of the YOLO (You Only Look Once) AI models developed by <a href=\"https://ultralytics.com\">Ultralytics</a>. This notebook serves as the starting point for exploring the various resources available to help you get started with YOLO11 and understand its features and capabilities.\n",
        "\n",
        "YOLO11 models are fast, accurate, and easy to use, making them ideal for various object detection and image segmentation tasks. They can be trained on large datasets and run on diverse hardware platforms, from CPUs to GPUs.\n",
        "\n",
        "We hope that the resources in this notebook will help you get the most out of YOLO11. Please browse the YOLO11 <a href=\"https://docs.ultralytics.com/\">Docs</a> for details, raise an issue on <a href=\"https://github.com/ultralytics/ultralytics\">GitHub</a> for support, and join our <a href=\"https://ultralytics.com/discord\">Discord</a> community for questions and discussions!\n",
        "\n",
        "</div>"
      ]
    },
    {
      "cell_type": "markdown",
      "source": [
        "<div align=\"center\">\n",
        "  \n",
        "  <a href=\"https://www.youtube.com/watch?v=ZN3nRZT7b24\" target=\"_blank\">\n",
        "    <img src=\"https://img.youtube.com/vi/ZN3nRZT7b24/maxresdefault.jpg\" alt=\"Ultralytics Video\" width=\"720\" style=\"border-radius: 10px; box-shadow: 0 4px 8px rgba(0, 0, 0, 0.2);\"></a>\n",
        "  \n",
        "  <p style=\"font-size: 16px; font-family: Arial, sans-serif; color: #555;\">\n",
        "    <strong>Watch: </strong> How to Train\n",
        "  <a href=\"https://github.com/ultralytics/ultralytics\">Ultralytics</a>\n",
        "  <a href=\"https://docs.ultralytics.com/models/yolo11/\">YOLO11</a> Model on Custom Dataset using Google Colab Notebook 🚀</p>\n",
        "\n",
        "</div>"
      ],
      "metadata": {
        "id": "DXHD1DC5M64G"
      }
    },
    {
      "cell_type": "markdown",
      "metadata": {
        "id": "7mGmQbAO5pQb"
      },
      "source": [
        "# Setup\n",
        "\n",
        "Pip install `ultralytics` and [dependencies](https://github.com/ultralytics/ultralytics/blob/main/pyproject.toml) and check software and hardware.\n",
        "\n",
        "[![PyPI - Version](https://img.shields.io/pypi/v/ultralytics?logo=pypi&logoColor=white)](https://pypi.org/project/ultralytics/) [![Downloads](https://static.pepy.tech/badge/ultralytics)](https://www.pepy.tech/projects/ultralytics) [![PyPI - Python Version](https://img.shields.io/pypi/pyversions/ultralytics?logo=python&logoColor=gold)](https://pypi.org/project/ultralytics/)"
      ]
    },
    {
      "cell_type": "code",
      "metadata": {
        "id": "wbvMlHd_QwMG",
        "colab": {
          "base_uri": "https://localhost:8080/"
        },
        "outputId": "193b8066-c0ad-4fdf-e778-eb0e218de642"
      },
      "source": [
        "%pip install ultralytics\n",
        "import ultralytics\n",
        "ultralytics.checks()"
      ],
      "execution_count": 1,
      "outputs": [
        {
          "output_type": "stream",
          "name": "stdout",
          "text": [
            "Ultralytics 8.3.48 🚀 Python-3.10.12 torch-2.5.1+cu121 CUDA:0 (Tesla T4, 15102MiB)\n",
            "Setup complete ✅ (2 CPUs, 12.7 GB RAM, 32.6/112.6 GB disk)\n"
          ]
        }
      ]
    },
    {
      "cell_type": "markdown",
      "metadata": {
        "id": "4JnkELT0cIJg"
      },
      "source": [
        "# 1. Predict\n",
        "\n",
        "YOLO11 may be used directly in the Command Line Interface (CLI) with a `yolo` command for a variety of tasks and modes and accepts additional arguments, i.e. `imgsz=640`. See a full list of available `yolo` [arguments](https://docs.ultralytics.com/usage/cfg/) and other details in the [YOLO11 Predict Docs](https://docs.ultralytics.com/modes/train/).\n"
      ]
    },
    {
      "cell_type": "code",
      "metadata": {
        "id": "zR9ZbuQCH7FX",
        "colab": {
          "base_uri": "https://localhost:8080/"
        },
        "outputId": "1aaa790e-085f-4f94-d373-7a50180e6a55"
      },
      "source": [
        "# Run inference on an image with YOLO11n\n",
        "!yolo predict model=yolo11n.pt source='https://ultralytics.com/images/zidane.jpg'"
      ],
      "execution_count": 2,
      "outputs": [
        {
          "output_type": "stream",
          "name": "stdout",
          "text": [
            "Downloading https://github.com/ultralytics/assets/releases/download/v8.3.0/yolo11n.pt to 'yolo11n.pt'...\n",
            "100% 5.35M/5.35M [00:00<00:00, 309MB/s]\n",
            "Ultralytics 8.3.48 🚀 Python-3.10.12 torch-2.5.1+cu121 CUDA:0 (Tesla T4, 15102MiB)\n",
            "YOLO11n summary (fused): 238 layers, 2,616,248 parameters, 0 gradients, 6.5 GFLOPs\n",
            "\n",
            "Downloading https://ultralytics.com/images/zidane.jpg to 'zidane.jpg'...\n",
            "100% 49.2k/49.2k [00:00<00:00, 44.0MB/s]\n",
            "image 1/1 /content/zidane.jpg: 384x640 2 persons, 1 tie, 64.7ms\n",
            "Speed: 13.6ms preprocess, 64.7ms inference, 844.1ms postprocess per image at shape (1, 3, 384, 640)\n",
            "Results saved to \u001b[1mruns/detect/predict\u001b[0m\n",
            "💡 Learn more at https://docs.ultralytics.com/modes/predict\n"
          ]
        }
      ]
    },
    {
      "cell_type": "code",
      "source": [
        "!unrar x coco128.rar\n"
      ],
      "metadata": {
        "id": "YSI0miKnXNJB",
        "outputId": "2ce330ee-0d92-4de3-cf6d-9c193bbd34ce",
        "colab": {
          "base_uri": "https://localhost:8080/"
        }
      },
      "execution_count": 3,
      "outputs": [
        {
          "output_type": "stream",
          "name": "stdout",
          "text": [
            "\n",
            "UNRAR 6.11 beta 1 freeware      Copyright (c) 1993-2022 Alexander Roshal\n",
            "\n",
            "\n",
            "Extracting from coco128.rar\n",
            "\n",
            "Creating    train                                                     OK\n",
            "Creating    train/images                                              OK\n",
            "Extracting  train/images/1.jpg                                           \b\b\b\b  0%\b\b\b\b\b  OK \n",
            "Extracting  train/images/10.jpg                                          \b\b\b\b  0%\b\b\b\b\b  OK \n",
            "Extracting  train/images/100.jpg                                         \b\b\b\b  1%\b\b\b\b\b  OK \n",
            "Extracting  train/images/101.jpg                                         \b\b\b\b  1%\b\b\b\b\b  OK \n",
            "Extracting  train/images/102.jpg                                         \b\b\b\b  2%\b\b\b\b\b  OK \n",
            "Extracting  train/images/103.jpg                                         \b\b\b\b  2%\b\b\b\b\b  OK \n",
            "Extracting  train/images/104.jpg                                         \b\b\b\b  3%\b\b\b\b\b  OK \n",
            "Extracting  train/images/105.jpg                                         \b\b\b\b  4%\b\b\b\b\b  OK \n",
            "Extracting  train/images/106.jpg                                         \b\b\b\b  4%\b\b\b\b\b  OK \n",
            "Extracting  train/images/107.jpg                                         \b\b\b\b  5%\b\b\b\b\b  OK \n",
            "Extracting  train/images/108.jpg                                         \b\b\b\b  5%\b\b\b\b\b  OK \n",
            "Extracting  train/images/109.jpg                                         \b\b\b\b  5%\b\b\b\b\b  OK \n",
            "Extracting  train/images/11.jpg                                          \b\b\b\b  6%\b\b\b\b\b  OK \n",
            "Extracting  train/images/110.jpg                                         \b\b\b\b  6%\b\b\b\b\b  OK \n",
            "Extracting  train/images/111.jpg                                         \b\b\b\b  6%\b\b\b\b\b  OK \n",
            "Extracting  train/images/112.jpg                                         \b\b\b\b  7%\b\b\b\b\b  OK \n",
            "Extracting  train/images/113.jpg                                         \b\b\b\b  7%\b\b\b\b\b  OK \n",
            "Extracting  train/images/114.jpg                                         \b\b\b\b  8%\b\b\b\b\b  OK \n",
            "Extracting  train/images/115.jpg                                         \b\b\b\b  8%\b\b\b\b\b  OK \n",
            "Extracting  train/images/116.jpg                                         \b\b\b\b  9%\b\b\b\b\b  OK \n",
            "Extracting  train/images/117.jpg                                         \b\b\b\b 10%\b\b\b\b\b  OK \n",
            "Extracting  train/images/118.jpg                                         \b\b\b\b 11%\b\b\b\b\b  OK \n",
            "Extracting  train/images/119.jpg                                         \b\b\b\b 12%\b\b\b\b\b  OK \n",
            "Extracting  train/images/12.jpg                                          \b\b\b\b 12%\b\b\b\b\b  OK \n",
            "Extracting  train/images/120.jpg                                         \b\b\b\b 13%\b\b\b\b\b  OK \n",
            "Extracting  train/images/121.jpg                                         \b\b\b\b 13%\b\b\b\b\b  OK \n",
            "Extracting  train/images/122.jpg                                         \b\b\b\b 14%\b\b\b\b\b  OK \n",
            "Extracting  train/images/123.jpg                                         \b\b\b\b 14%\b\b\b\b\b  OK \n",
            "Extracting  train/images/124.jpg                                         \b\b\b\b 15%\b\b\b\b\b  OK \n",
            "Extracting  train/images/125.jpg                                         \b\b\b\b 15%\b\b\b\b\b  OK \n",
            "Extracting  train/images/126.jpg                                         \b\b\b\b 15%\b\b\b\b\b  OK \n",
            "Extracting  train/images/127.jpg                                         \b\b\b\b 15%\b\b\b\b\b  OK \n",
            "Extracting  train/images/128.jpg                                         \b\b\b\b 16%\b\b\b\b\b  OK \n",
            "Extracting  train/images/129.jpg                                         \b\b\b\b 16%\b\b\b\b\b  OK \n",
            "Extracting  train/images/13.jpg                                          \b\b\b\b 17%\b\b\b\b\b  OK \n",
            "Extracting  train/images/130.jpg                                         \b\b\b\b 18%\b\b\b\b\b  OK \n",
            "Extracting  train/images/131.jpg                                         \b\b\b\b 18%\b\b\b\b\b  OK \n",
            "Extracting  train/images/132.jpg                                         \b\b\b\b 19%\b\b\b\b\b  OK \n",
            "Extracting  train/images/133.jpg                                         \b\b\b\b 20%\b\b\b\b\b  OK \n",
            "Extracting  train/images/134.jpg                                         \b\b\b\b 20%\b\b\b\b\b  OK \n",
            "Extracting  train/images/135.jpg                                         \b\b\b\b 20%\b\b\b\b\b  OK \n",
            "Extracting  train/images/136.jpg                                         \b\b\b\b 21%\b\b\b\b\b  OK \n",
            "Extracting  train/images/137.jpg                                         \b\b\b\b 21%\b\b\b\b\b  OK \n",
            "Extracting  train/images/138.jpg                                         \b\b\b\b 22%\b\b\b\b\b  OK \n",
            "Extracting  train/images/139.jpg                                         \b\b\b\b 22%\b\b\b\b\b  OK \n",
            "Extracting  train/images/14.jpg                                          \b\b\b\b 23%\b\b\b\b\b  OK \n",
            "Extracting  train/images/140.jpg                                         \b\b\b\b 23%\b\b\b\b\b  OK \n",
            "Extracting  train/images/141.jpg                                         \b\b\b\b 23%\b\b\b\b\b  OK \n",
            "Extracting  train/images/142.jpg                                         \b\b\b\b 24%\b\b\b\b\b  OK \n",
            "Extracting  train/images/143.jpg                                         \b\b\b\b 24%\b\b\b\b\b  OK \n",
            "Extracting  train/images/144.jpg                                         \b\b\b\b 25%\b\b\b\b\b  OK \n",
            "Extracting  train/images/145.jpg                                         \b\b\b\b 26%\b\b\b\b\b  OK \n",
            "Extracting  train/images/146.jpg                                         \b\b\b\b 27%\b\b\b\b\b  OK \n",
            "Extracting  train/images/147.jpg                                         \b\b\b\b 28%\b\b\b\b\b  OK \n",
            "Extracting  train/images/148.jpg                                         \b\b\b\b 29%\b\b\b\b\b  OK \n",
            "Extracting  train/images/149.jpg                                         \b\b\b\b 29%\b\b\b\b\b  OK \n",
            "Extracting  train/images/15.jpg                                          \b\b\b\b 29%\b\b\b\b\b  OK \n",
            "Extracting  train/images/150.jpg                                         \b\b\b\b 31%\b\b\b\b\b  OK \n",
            "Extracting  train/images/151.jpg                                         \b\b\b\b 31%\b\b\b\b\b  OK \n",
            "Extracting  train/images/152.jpg                                         \b\b\b\b 32%\b\b\b\b\b  OK \n",
            "Extracting  train/images/153.jpg                                         \b\b\b\b 32%\b\b\b\b\b  OK \n",
            "Extracting  train/images/154.jpg                                         \b\b\b\b 33%\b\b\b\b\b  OK \n",
            "Extracting  train/images/155.jpg                                         \b\b\b\b 33%\b\b\b\b\b  OK \n",
            "Extracting  train/images/156.jpg                                         \b\b\b\b 33%\b\b\b\b\b  OK \n",
            "Extracting  train/images/157.jpg                                         \b\b\b\b 34%\b\b\b\b\b  OK \n",
            "Extracting  train/images/158.jpg                                         \b\b\b\b 34%\b\b\b\b\b  OK \n",
            "Extracting  train/images/159.jpg                                         \b\b\b\b 35%\b\b\b\b\b  OK \n",
            "Extracting  train/images/16.jpg                                          \b\b\b\b 36%\b\b\b\b\b  OK \n",
            "Extracting  train/images/160.jpg                                         \b\b\b\b 36%\b\b\b\b\b  OK \n",
            "Extracting  train/images/161.jpg                                         \b\b\b\b 37%\b\b\b\b\b  OK \n",
            "Extracting  train/images/162.jpg                                         \b\b\b\b 37%\b\b\b\b\b  OK \n",
            "Extracting  train/images/163.jpg                                         \b\b\b\b 38%\b\b\b\b\b  OK \n",
            "Extracting  train/images/164.jpg                                         \b\b\b\b 38%\b\b\b\b\b  OK \n",
            "Extracting  train/images/165.jpg                                         \b\b\b\b 39%\b\b\b\b\b  OK \n",
            "Extracting  train/images/166.jpg                                         \b\b\b\b 39%\b\b\b\b\b  OK \n",
            "Extracting  train/images/167.jpg                                         \b\b\b\b 40%\b\b\b\b\b  OK \n",
            "Extracting  train/images/168.jpg                                         \b\b\b\b 41%\b\b\b\b\b  OK \n",
            "Extracting  train/images/169.jpg                                         \b\b\b\b 41%\b\b\b\b\b  OK \n",
            "Extracting  train/images/17.jpg                                          \b\b\b\b 42%\b\b\b\b\b  OK \n",
            "Extracting  train/images/170.jpg                                         \b\b\b\b 43%\b\b\b\b\b  OK \n",
            "Extracting  train/images/171.jpg                                         \b\b\b\b 43%\b\b\b\b\b  OK \n",
            "Extracting  train/images/172.jpg                                         \b\b\b\b 43%\b\b\b\b\b  OK \n",
            "Extracting  train/images/173.jpg                                         \b\b\b\b 44%\b\b\b\b\b  OK \n",
            "Extracting  train/images/174.jpg                                         \b\b\b\b 45%\b\b\b\b\b  OK \n",
            "Extracting  train/images/175.jpg                                         \b\b\b\b 45%\b\b\b\b\b  OK \n",
            "Extracting  train/images/176.jpg                                         \b\b\b\b 46%\b\b\b\b\b  OK \n",
            "Extracting  train/images/177.jpg                                         \b\b\b\b 46%\b\b\b\b\b  OK \n",
            "Extracting  train/images/178.jpg                                         \b\b\b\b 47%\b\b\b\b\b  OK \n",
            "Extracting  train/images/179.jpg                                         \b\b\b\b 48%\b\b\b\b\b  OK \n",
            "Extracting  train/images/18.jpg                                          \b\b\b\b 48%\b\b\b\b\b  OK \n",
            "Extracting  train/images/180.jpg                                         \b\b\b\b 48%\b\b\b\b\b  OK \n",
            "Extracting  train/images/181.jpg                                         \b\b\b\b 49%\b\b\b\b\b  OK \n",
            "Extracting  train/images/182.jpg                                         \b\b\b\b 50%\b\b\b\b\b  OK \n",
            "Extracting  train/images/183.jpg                                         \b\b\b\b 50%\b\b\b\b\b  OK \n",
            "Extracting  train/images/184.jpg                                         \b\b\b\b 50%\b\b\b\b\b  OK \n",
            "Extracting  train/images/185.jpg                                         \b\b\b\b 51%\b\b\b\b\b  OK \n",
            "Extracting  train/images/186.jpg                                         \b\b\b\b 52%\b\b\b\b\b  OK \n",
            "Extracting  train/images/187.jpg                                         \b\b\b\b 52%\b\b\b\b\b  OK \n",
            "Extracting  train/images/188.jpg                                         \b\b\b\b 53%\b\b\b\b\b  OK \n",
            "Extracting  train/images/189.jpg                                         \b\b\b\b 53%\b\b\b\b\b  OK \n",
            "Extracting  train/images/19.jpg                                          \b\b\b\b 54%\b\b\b\b\b  OK \n",
            "Extracting  train/images/190.jpg                                         \b\b\b\b 54%\b\b\b\b\b  OK \n",
            "Extracting  train/images/191.jpg                                         \b\b\b\b 55%\b\b\b\b\b  OK \n",
            "Extracting  train/images/192.jpg                                         \b\b\b\b 55%\b\b\b\b\b  OK \n",
            "Extracting  train/images/193.jpg                                         \b\b\b\b 55%\b\b\b\b\b  OK \n",
            "Extracting  train/images/194.jpg                                         \b\b\b\b 56%\b\b\b\b\b  OK \n",
            "Extracting  train/images/195.jpg                                         \b\b\b\b 57%\b\b\b\b\b  OK \n",
            "Extracting  train/images/196.jpg                                         \b\b\b\b 57%\b\b\b\b\b  OK \n",
            "Extracting  train/images/197.jpg                                         \b\b\b\b 58%\b\b\b\b\b  OK \n",
            "Extracting  train/images/198.jpg                                         \b\b\b\b 59%\b\b\b\b\b  OK \n",
            "Extracting  train/images/199.jpg                                         \b\b\b\b 59%\b\b\b\b\b  OK \n",
            "Extracting  train/images/2.jpg                                           \b\b\b\b 60%\b\b\b\b\b  OK \n",
            "Extracting  train/images/20.jpg                                          \b\b\b\b 60%\b\b\b\b\b  OK \n",
            "Extracting  train/images/200.jpg                                         \b\b\b\b 60%\b\b\b\b\b  OK \n",
            "Extracting  train/images/21.jpg                                          \b\b\b\b 61%\b\b\b\b\b  OK \n",
            "Extracting  train/images/22.jpg                                          \b\b\b\b 62%\b\b\b\b\b  OK \n",
            "Extracting  train/images/23.jpg                                          \b\b\b\b 62%\b\b\b\b\b  OK \n",
            "Extracting  train/images/24.jpg                                          \b\b\b\b 63%\b\b\b\b\b  OK \n",
            "Extracting  train/images/25.jpg                                          \b\b\b\b 63%\b\b\b\b\b  OK \n",
            "Extracting  train/images/26.jpg                                          \b\b\b\b 63%\b\b\b\b\b  OK \n",
            "Extracting  train/images/27.jpg                                          \b\b\b\b 64%\b\b\b\b\b  OK \n",
            "Extracting  train/images/28.jpg                                          \b\b\b\b 64%\b\b\b\b\b  OK \n",
            "Extracting  train/images/29.jpg                                          \b\b\b\b 65%\b\b\b\b\b  OK \n",
            "Extracting  train/images/3.jpg                                           \b\b\b\b 65%\b\b\b\b\b  OK \n",
            "Extracting  train/images/30.jpg                                          \b\b\b\b 66%\b\b\b\b\b  OK \n",
            "Extracting  train/images/31.jpg                                          \b\b\b\b 66%\b\b\b\b\b  OK \n",
            "Extracting  train/images/32.jpg                                          \b\b\b\b 67%\b\b\b\b\b  OK \n",
            "Extracting  train/images/33.jpg                                          \b\b\b\b 67%\b\b\b\b\b  OK \n",
            "Extracting  train/images/34.jpg                                          \b\b\b\b 67%\b\b\b\b\b  OK \n",
            "Extracting  train/images/35.jpg                                          \b\b\b\b 68%\b\b\b\b\b  OK \n",
            "Extracting  train/images/36.jpg                                          \b\b\b\b 69%\b\b\b\b\b  OK \n",
            "Extracting  train/images/37.jpg                                          \b\b\b\b 69%\b\b\b\b\b  OK \n",
            "Extracting  train/images/38.jpg                                          \b\b\b\b 69%\b\b\b\b\b  OK \n",
            "Extracting  train/images/39.jpg                                          \b\b\b\b 70%\b\b\b\b\b  OK \n",
            "Extracting  train/images/4.jpg                                           \b\b\b\b 70%\b\b\b\b\b  OK \n",
            "Extracting  train/images/40.jpg                                          \b\b\b\b 71%\b\b\b\b\b  OK \n",
            "Extracting  train/images/41.jpg                                          \b\b\b\b 71%\b\b\b\b\b  OK \n",
            "Extracting  train/images/42.jpg                                          \b\b\b\b 71%\b\b\b\b\b  OK \n",
            "Extracting  train/images/43.jpg                                          \b\b\b\b 72%\b\b\b\b\b  OK \n",
            "Extracting  train/images/44.jpg                                          \b\b\b\b 72%\b\b\b\b\b  OK \n",
            "Extracting  train/images/45.jpg                                          \b\b\b\b 73%\b\b\b\b\b  OK \n",
            "Extracting  train/images/46.jpg                                          \b\b\b\b 73%\b\b\b\b\b  OK \n",
            "Extracting  train/images/47.jpg                                          \b\b\b\b 73%\b\b\b\b\b  OK \n",
            "Extracting  train/images/48.jpg                                          \b\b\b\b 73%\b\b\b\b\b  OK \n",
            "Extracting  train/images/49.jpg                                          \b\b\b\b 74%\b\b\b\b\b  OK \n",
            "Extracting  train/images/5.jpg                                           \b\b\b\b 74%\b\b\b\b\b  OK \n",
            "Extracting  train/images/50.jpg                                          \b\b\b\b 75%\b\b\b\b\b  OK \n",
            "Extracting  train/images/51.jpg                                          \b\b\b\b 75%\b\b\b\b\b  OK \n",
            "Extracting  train/images/52.jpg                                          \b\b\b\b 75%\b\b\b\b\b  OK \n",
            "Extracting  train/images/53.jpg                                          \b\b\b\b 76%\b\b\b\b\b  OK \n",
            "Extracting  train/images/54.jpg                                          \b\b\b\b 76%\b\b\b\b\b  OK \n",
            "Extracting  train/images/55.jpg                                          \b\b\b\b 76%\b\b\b\b\b  OK \n",
            "Extracting  train/images/56.jpg                                          \b\b\b\b 77%\b\b\b\b\b  OK \n",
            "Extracting  train/images/57.jpg                                          \b\b\b\b 78%\b\b\b\b\b  OK \n",
            "Extracting  train/images/58.jpg                                          \b\b\b\b 78%\b\b\b\b\b  OK \n",
            "Extracting  train/images/59.jpg                                          \b\b\b\b 79%\b\b\b\b\b  OK \n",
            "Extracting  train/images/6.jpg                                           \b\b\b\b 79%\b\b\b\b\b  OK \n",
            "Extracting  train/images/60.jpg                                          \b\b\b\b 80%\b\b\b\b\b  OK \n",
            "Extracting  train/images/61.jpg                                          \b\b\b\b 80%\b\b\b\b\b  OK \n",
            "Extracting  train/images/62.jpg                                          \b\b\b\b 80%\b\b\b\b\b  OK \n",
            "Extracting  train/images/63.jpg                                          \b\b\b\b 81%\b\b\b\b\b  OK \n",
            "Extracting  train/images/64.jpg                                          \b\b\b\b 81%\b\b\b\b\b  OK \n",
            "Extracting  train/images/65.jpg                                          \b\b\b\b 82%\b\b\b\b\b  OK \n",
            "Extracting  train/images/66.jpg                                          \b\b\b\b 82%\b\b\b\b\b  OK \n",
            "Extracting  train/images/67.jpg                                          \b\b\b\b 82%\b\b\b\b\b  OK \n",
            "Extracting  train/images/68.jpg                                          \b\b\b\b 83%\b\b\b\b\b  OK \n",
            "Extracting  train/images/69.jpg                                          \b\b\b\b 84%\b\b\b\b\b  OK \n",
            "Extracting  train/images/7.jpg                                           \b\b\b\b 84%\b\b\b\b\b  OK \n",
            "Extracting  train/images/70.jpg                                          \b\b\b\b 85%\b\b\b\b\b  OK \n",
            "Extracting  train/images/71.jpg                                          \b\b\b\b 85%\b\b\b\b\b  OK \n",
            "Extracting  train/images/72.jpg                                          \b\b\b\b 85%\b\b\b\b\b  OK \n",
            "Extracting  train/images/73.jpg                                          \b\b\b\b 86%\b\b\b\b\b  OK \n",
            "Extracting  train/images/74.jpg                                          \b\b\b\b 87%\b\b\b\b\b  OK \n",
            "Extracting  train/images/75.jpg                                          \b\b\b\b 87%\b\b\b\b\b  OK \n",
            "Extracting  train/images/76.jpg                                          \b\b\b\b 88%\b\b\b\b\b  OK \n",
            "Extracting  train/images/77.jpg                                          \b\b\b\b 88%\b\b\b\b\b  OK \n",
            "Extracting  train/images/78.jpg                                          \b\b\b\b 89%\b\b\b\b\b  OK \n",
            "Extracting  train/images/79.jpg                                          \b\b\b\b 90%\b\b\b\b\b  OK \n",
            "Extracting  train/images/8.jpg                                           \b\b\b\b 90%\b\b\b\b\b  OK \n",
            "Extracting  train/images/80.jpg                                          \b\b\b\b 90%\b\b\b\b\b  OK \n",
            "Extracting  train/images/81.jpg                                          \b\b\b\b 91%\b\b\b\b\b  OK \n",
            "Extracting  train/images/82.jpg                                          \b\b\b\b 91%\b\b\b\b\b  OK \n",
            "Extracting  train/images/83.jpg                                          \b\b\b\b 92%\b\b\b\b\b  OK \n",
            "Extracting  train/images/84.jpg                                          \b\b\b\b 92%\b\b\b\b\b  OK \n",
            "Extracting  train/images/85.jpg                                          \b\b\b\b 93%\b\b\b\b\b  OK \n",
            "Extracting  train/images/86.jpg                                          \b\b\b\b 93%\b\b\b\b\b  OK \n",
            "Extracting  train/images/87.jpg                                          \b\b\b\b 94%\b\b\b\b\b  OK \n",
            "Extracting  train/images/88.jpg                                          \b\b\b\b 95%\b\b\b\b\b  OK \n",
            "Extracting  train/images/89.jpg                                          \b\b\b\b 95%\b\b\b\b\b  OK \n",
            "Extracting  train/images/9.jpg                                           \b\b\b\b 96%\b\b\b\b\b  OK \n",
            "Extracting  train/images/90.jpg                                          \b\b\b\b 96%\b\b\b\b\b  OK \n",
            "Extracting  train/images/91.jpg                                          \b\b\b\b 96%\b\b\b\b\b  OK \n",
            "Extracting  train/images/92.jpg                                          \b\b\b\b 97%\b\b\b\b\b  OK \n",
            "Extracting  train/images/93.jpg                                          \b\b\b\b 97%\b\b\b\b\b  OK \n",
            "Extracting  train/images/94.jpg                                          \b\b\b\b 97%\b\b\b\b\b  OK \n",
            "Extracting  train/images/95.jpg                                          \b\b\b\b 98%\b\b\b\b\b  OK \n",
            "Extracting  train/images/96.jpg                                          \b\b\b\b 98%\b\b\b\b\b  OK \n",
            "Extracting  train/images/97.jpg                                          \b\b\b\b 98%\b\b\b\b\b  OK \n",
            "Extracting  train/images/98.jpg                                          \b\b\b\b 99%\b\b\b\b\b  OK \n",
            "Extracting  train/images/99.jpg                                          \b\b\b\b 99%\b\b\b\b\b  OK \n",
            "Creating    train/labels                                              OK\n",
            "Extracting  train/labels/1.txt                                           \b\b\b\b 99%\b\b\b\b\b  OK \n",
            "Extracting  train/labels/10.txt                                          \b\b\b\b 99%\b\b\b\b\b  OK \n",
            "Extracting  train/labels/100.txt                                         \b\b\b\b 99%\b\b\b\b\b  OK \n",
            "Extracting  train/labels/101.txt                                         \b\b\b\b 99%\b\b\b\b\b  OK \n",
            "Extracting  train/labels/102.txt                                         \b\b\b\b 99%\b\b\b\b\b  OK \n",
            "Extracting  train/labels/103.txt                                         \b\b\b\b 99%\b\b\b\b\b  OK \n",
            "Extracting  train/labels/104.txt                                         \b\b\b\b 99%\b\b\b\b\b  OK \n",
            "Extracting  train/labels/105.txt                                         \b\b\b\b 99%\b\b\b\b\b  OK \n",
            "Extracting  train/labels/106.txt                                         \b\b\b\b 99%\b\b\b\b\b  OK \n",
            "Extracting  train/labels/107.txt                                         \b\b\b\b 99%\b\b\b\b\b  OK \n",
            "Extracting  train/labels/108.txt                                         \b\b\b\b 99%\b\b\b\b\b  OK \n",
            "Extracting  train/labels/109.txt                                         \b\b\b\b 99%\b\b\b\b\b  OK \n",
            "Extracting  train/labels/11.txt                                          \b\b\b\b 99%\b\b\b\b\b  OK \n",
            "Extracting  train/labels/110.txt                                         \b\b\b\b 99%\b\b\b\b\b  OK \n",
            "Extracting  train/labels/111.txt                                         \b\b\b\b 99%\b\b\b\b\b  OK \n",
            "Extracting  train/labels/112.txt                                         \b\b\b\b 99%\b\b\b\b\b  OK \n",
            "Extracting  train/labels/113.txt                                         \b\b\b\b 99%\b\b\b\b\b  OK \n",
            "Extracting  train/labels/114.txt                                         \b\b\b\b 99%\b\b\b\b\b  OK \n",
            "Extracting  train/labels/115.txt                                         \b\b\b\b 99%\b\b\b\b\b  OK \n",
            "Extracting  train/labels/116.txt                                         \b\b\b\b 99%\b\b\b\b\b  OK \n",
            "Extracting  train/labels/117.txt                                         \b\b\b\b 99%\b\b\b\b\b  OK \n",
            "Extracting  train/labels/118.txt                                         \b\b\b\b 99%\b\b\b\b\b  OK \n",
            "Extracting  train/labels/119.txt                                         \b\b\b\b 99%\b\b\b\b\b  OK \n",
            "Extracting  train/labels/12.txt                                          \b\b\b\b 99%\b\b\b\b\b  OK \n",
            "Extracting  train/labels/120.txt                                         \b\b\b\b 99%\b\b\b\b\b  OK \n",
            "Extracting  train/labels/121.txt                                         \b\b\b\b 99%\b\b\b\b\b  OK \n",
            "Extracting  train/labels/122.txt                                         \b\b\b\b 99%\b\b\b\b\b  OK \n",
            "Extracting  train/labels/123.txt                                         \b\b\b\b 99%\b\b\b\b\b  OK \n",
            "Extracting  train/labels/124.txt                                         \b\b\b\b 99%\b\b\b\b\b  OK \n",
            "Extracting  train/labels/125.txt                                         \b\b\b\b 99%\b\b\b\b\b  OK \n",
            "Extracting  train/labels/126.txt                                         \b\b\b\b 99%\b\b\b\b\b  OK \n",
            "Extracting  train/labels/127.txt                                         \b\b\b\b 99%\b\b\b\b\b  OK \n",
            "Extracting  train/labels/128.txt                                         \b\b\b\b 99%\b\b\b\b\b  OK \n",
            "Extracting  train/labels/129.txt                                         \b\b\b\b 99%\b\b\b\b\b  OK \n",
            "Extracting  train/labels/13.txt                                          \b\b\b\b 99%\b\b\b\b\b  OK \n",
            "Extracting  train/labels/130.txt                                         \b\b\b\b 99%\b\b\b\b\b  OK \n",
            "Extracting  train/labels/131.txt                                         \b\b\b\b 99%\b\b\b\b\b  OK \n",
            "Extracting  train/labels/132.txt                                         \b\b\b\b 99%\b\b\b\b\b  OK \n",
            "Extracting  train/labels/133.txt                                         \b\b\b\b 99%\b\b\b\b\b  OK \n",
            "Extracting  train/labels/134.txt                                         \b\b\b\b 99%\b\b\b\b\b  OK \n",
            "Extracting  train/labels/135.txt                                         \b\b\b\b 99%\b\b\b\b\b  OK \n",
            "Extracting  train/labels/136.txt                                         \b\b\b\b 99%\b\b\b\b\b  OK \n",
            "Extracting  train/labels/137.txt                                         \b\b\b\b 99%\b\b\b\b\b  OK \n",
            "Extracting  train/labels/138.txt                                         \b\b\b\b 99%\b\b\b\b\b  OK \n",
            "Extracting  train/labels/139.txt                                         \b\b\b\b 99%\b\b\b\b\b  OK \n",
            "Extracting  train/labels/14.txt                                          \b\b\b\b 99%\b\b\b\b\b  OK \n",
            "Extracting  train/labels/140.txt                                         \b\b\b\b 99%\b\b\b\b\b  OK \n",
            "Extracting  train/labels/141.txt                                         \b\b\b\b 99%\b\b\b\b\b  OK \n",
            "Extracting  train/labels/142.txt                                         \b\b\b\b 99%\b\b\b\b\b  OK \n",
            "Extracting  train/labels/143.txt                                         \b\b\b\b 99%\b\b\b\b\b  OK \n",
            "Extracting  train/labels/144.txt                                         \b\b\b\b 99%\b\b\b\b\b  OK \n",
            "Extracting  train/labels/145.txt                                         \b\b\b\b 99%\b\b\b\b\b  OK \n",
            "Extracting  train/labels/146.txt                                         \b\b\b\b 99%\b\b\b\b\b  OK \n",
            "Extracting  train/labels/147.txt                                         \b\b\b\b 99%\b\b\b\b\b  OK \n",
            "Extracting  train/labels/148.txt                                         \b\b\b\b 99%\b\b\b\b\b  OK \n",
            "Extracting  train/labels/149.txt                                         \b\b\b\b 99%\b\b\b\b\b  OK \n",
            "Extracting  train/labels/15.txt                                          \b\b\b\b 99%\b\b\b\b\b  OK \n",
            "Extracting  train/labels/150.txt                                         \b\b\b\b 99%\b\b\b\b\b  OK \n",
            "Extracting  train/labels/151.txt                                         \b\b\b\b 99%\b\b\b\b\b  OK \n",
            "Extracting  train/labels/152.txt                                         \b\b\b\b 99%\b\b\b\b\b  OK \n",
            "Extracting  train/labels/153.txt                                         \b\b\b\b 99%\b\b\b\b\b  OK \n",
            "Extracting  train/labels/154.txt                                         \b\b\b\b 99%\b\b\b\b\b  OK \n",
            "Extracting  train/labels/155.txt                                         \b\b\b\b 99%\b\b\b\b\b  OK \n",
            "Extracting  train/labels/156.txt                                         \b\b\b\b 99%\b\b\b\b\b  OK \n",
            "Extracting  train/labels/157.txt                                         \b\b\b\b 99%\b\b\b\b\b  OK \n",
            "Extracting  train/labels/158.txt                                         \b\b\b\b 99%\b\b\b\b\b  OK \n",
            "Extracting  train/labels/159.txt                                         \b\b\b\b 99%\b\b\b\b\b  OK \n",
            "Extracting  train/labels/16.txt                                          \b\b\b\b 99%\b\b\b\b\b  OK \n",
            "Extracting  train/labels/160.txt                                         \b\b\b\b 99%\b\b\b\b\b  OK \n",
            "Extracting  train/labels/161.txt                                         \b\b\b\b 99%\b\b\b\b\b  OK \n",
            "Extracting  train/labels/162.txt                                         \b\b\b\b 99%\b\b\b\b\b  OK \n",
            "Extracting  train/labels/163.txt                                         \b\b\b\b 99%\b\b\b\b\b  OK \n",
            "Extracting  train/labels/164.txt                                         \b\b\b\b 99%\b\b\b\b\b  OK \n",
            "Extracting  train/labels/165.txt                                         \b\b\b\b 99%\b\b\b\b\b  OK \n",
            "Extracting  train/labels/166.txt                                         \b\b\b\b 99%\b\b\b\b\b  OK \n",
            "Extracting  train/labels/167.txt                                         \b\b\b\b 99%\b\b\b\b\b  OK \n",
            "Extracting  train/labels/168.txt                                         \b\b\b\b 99%\b\b\b\b\b  OK \n",
            "Extracting  train/labels/169.txt                                         \b\b\b\b 99%\b\b\b\b\b  OK \n",
            "Extracting  train/labels/17.txt                                          \b\b\b\b 99%\b\b\b\b\b  OK \n",
            "Extracting  train/labels/170.txt                                         \b\b\b\b 99%\b\b\b\b\b  OK \n",
            "Extracting  train/labels/171.txt                                         \b\b\b\b 99%\b\b\b\b\b  OK \n",
            "Extracting  train/labels/172.txt                                         \b\b\b\b 99%\b\b\b\b\b  OK \n",
            "Extracting  train/labels/173.txt                                         \b\b\b\b 99%\b\b\b\b\b  OK \n",
            "Extracting  train/labels/174.txt                                         \b\b\b\b 99%\b\b\b\b\b  OK \n",
            "Extracting  train/labels/175.txt                                         \b\b\b\b 99%\b\b\b\b\b  OK \n",
            "Extracting  train/labels/176.txt                                         \b\b\b\b 99%\b\b\b\b\b  OK \n",
            "Extracting  train/labels/177.txt                                         \b\b\b\b 99%\b\b\b\b\b  OK \n",
            "Extracting  train/labels/178.txt                                         \b\b\b\b 99%\b\b\b\b\b  OK \n",
            "Extracting  train/labels/179.txt                                         \b\b\b\b 99%\b\b\b\b\b  OK \n",
            "Extracting  train/labels/18.txt                                          \b\b\b\b 99%\b\b\b\b\b  OK \n",
            "Extracting  train/labels/180.txt                                         \b\b\b\b 99%\b\b\b\b\b  OK \n",
            "Extracting  train/labels/181.txt                                         \b\b\b\b 99%\b\b\b\b\b  OK \n",
            "Extracting  train/labels/182.txt                                         \b\b\b\b 99%\b\b\b\b\b  OK \n",
            "Extracting  train/labels/183.txt                                         \b\b\b\b 99%\b\b\b\b\b  OK \n",
            "Extracting  train/labels/184.txt                                         \b\b\b\b 99%\b\b\b\b\b  OK \n",
            "Extracting  train/labels/185.txt                                         \b\b\b\b 99%\b\b\b\b\b  OK \n",
            "Extracting  train/labels/186.txt                                         \b\b\b\b 99%\b\b\b\b\b  OK \n",
            "Extracting  train/labels/187.txt                                         \b\b\b\b 99%\b\b\b\b\b  OK \n",
            "Extracting  train/labels/188.txt                                         \b\b\b\b 99%\b\b\b\b\b  OK \n",
            "Extracting  train/labels/189.txt                                         \b\b\b\b 99%\b\b\b\b\b  OK \n",
            "Extracting  train/labels/19.txt                                          \b\b\b\b 99%\b\b\b\b\b  OK \n",
            "Extracting  train/labels/190.txt                                         \b\b\b\b 99%\b\b\b\b\b  OK \n",
            "Extracting  train/labels/191.txt                                         \b\b\b\b 99%\b\b\b\b\b  OK \n",
            "Extracting  train/labels/192.txt                                         \b\b\b\b 99%\b\b\b\b\b  OK \n",
            "Extracting  train/labels/193.txt                                         \b\b\b\b 99%\b\b\b\b\b  OK \n",
            "Extracting  train/labels/194.txt                                         \b\b\b\b 99%\b\b\b\b\b  OK \n",
            "Extracting  train/labels/195.txt                                         \b\b\b\b 99%\b\b\b\b\b  OK \n",
            "Extracting  train/labels/196.txt                                         \b\b\b\b 99%\b\b\b\b\b  OK \n",
            "Extracting  train/labels/197.txt                                         \b\b\b\b 99%\b\b\b\b\b  OK \n",
            "Extracting  train/labels/198.txt                                         \b\b\b\b 99%\b\b\b\b\b  OK \n",
            "Extracting  train/labels/199.txt                                         \b\b\b\b 99%\b\b\b\b\b  OK \n",
            "Extracting  train/labels/2.txt                                           \b\b\b\b 99%\b\b\b\b\b  OK \n",
            "Extracting  train/labels/20.txt                                          \b\b\b\b 99%\b\b\b\b\b  OK \n",
            "Extracting  train/labels/200.txt                                         \b\b\b\b 99%\b\b\b\b\b  OK \n",
            "Extracting  train/labels/21.txt                                          \b\b\b\b 99%\b\b\b\b\b  OK \n",
            "Extracting  train/labels/22.txt                                          \b\b\b\b 99%\b\b\b\b\b  OK \n",
            "Extracting  train/labels/23.txt                                          \b\b\b\b 99%\b\b\b\b\b  OK \n",
            "Extracting  train/labels/24.txt                                          \b\b\b\b 99%\b\b\b\b\b  OK \n",
            "Extracting  train/labels/25.txt                                          \b\b\b\b 99%\b\b\b\b\b  OK \n",
            "Extracting  train/labels/26.txt                                          \b\b\b\b 99%\b\b\b\b\b  OK \n",
            "Extracting  train/labels/27.txt                                          \b\b\b\b 99%\b\b\b\b\b  OK \n",
            "Extracting  train/labels/28.txt                                          \b\b\b\b 99%\b\b\b\b\b  OK \n",
            "Extracting  train/labels/29.txt                                          \b\b\b\b 99%\b\b\b\b\b  OK \n",
            "Extracting  train/labels/3.txt                                           \b\b\b\b 99%\b\b\b\b\b  OK \n",
            "Extracting  train/labels/30.txt                                          \b\b\b\b 99%\b\b\b\b\b  OK \n",
            "Extracting  train/labels/31.txt                                          \b\b\b\b 99%\b\b\b\b\b  OK \n",
            "Extracting  train/labels/32.txt                                          \b\b\b\b 99%\b\b\b\b\b  OK \n",
            "Extracting  train/labels/33.txt                                          \b\b\b\b 99%\b\b\b\b\b  OK \n",
            "Extracting  train/labels/34.txt                                          \b\b\b\b 99%\b\b\b\b\b  OK \n",
            "Extracting  train/labels/35.txt                                          \b\b\b\b 99%\b\b\b\b\b  OK \n",
            "Extracting  train/labels/36.txt                                          \b\b\b\b 99%\b\b\b\b\b  OK \n",
            "Extracting  train/labels/37.txt                                          \b\b\b\b 99%\b\b\b\b\b  OK \n",
            "Extracting  train/labels/38.txt                                          \b\b\b\b 99%\b\b\b\b\b  OK \n",
            "Extracting  train/labels/39.txt                                          \b\b\b\b 99%\b\b\b\b\b  OK \n",
            "Extracting  train/labels/4.txt                                           \b\b\b\b 99%\b\b\b\b\b  OK \n",
            "Extracting  train/labels/40.txt                                          \b\b\b\b 99%\b\b\b\b\b  OK \n",
            "Extracting  train/labels/41.txt                                          \b\b\b\b 99%\b\b\b\b\b  OK \n",
            "Extracting  train/labels/42.txt                                          \b\b\b\b 99%\b\b\b\b\b  OK \n",
            "Extracting  train/labels/43.txt                                          \b\b\b\b 99%\b\b\b\b\b  OK \n",
            "Extracting  train/labels/44.txt                                          \b\b\b\b 99%\b\b\b\b\b  OK \n",
            "Extracting  train/labels/45.txt                                          \b\b\b\b 99%\b\b\b\b\b  OK \n",
            "Extracting  train/labels/46.txt                                          \b\b\b\b 99%\b\b\b\b\b  OK \n",
            "Extracting  train/labels/47.txt                                          \b\b\b\b 99%\b\b\b\b\b  OK \n",
            "Extracting  train/labels/48.txt                                          \b\b\b\b 99%\b\b\b\b\b  OK \n",
            "Extracting  train/labels/49.txt                                          \b\b\b\b 99%\b\b\b\b\b  OK \n",
            "Extracting  train/labels/5.txt                                           \b\b\b\b 99%\b\b\b\b\b  OK \n",
            "Extracting  train/labels/50.txt                                          \b\b\b\b 99%\b\b\b\b\b  OK \n",
            "Extracting  train/labels/51.txt                                          \b\b\b\b 99%\b\b\b\b\b  OK \n",
            "Extracting  train/labels/52.txt                                          \b\b\b\b 99%\b\b\b\b\b  OK \n",
            "Extracting  train/labels/53.txt                                          \b\b\b\b 99%\b\b\b\b\b  OK \n",
            "Extracting  train/labels/54.txt                                          \b\b\b\b 99%\b\b\b\b\b  OK \n",
            "Extracting  train/labels/55.txt                                          \b\b\b\b 99%\b\b\b\b\b  OK \n",
            "Extracting  train/labels/56.txt                                          \b\b\b\b 99%\b\b\b\b\b  OK \n",
            "Extracting  train/labels/57.txt                                          \b\b\b\b 99%\b\b\b\b\b  OK \n",
            "Extracting  train/labels/58.txt                                          \b\b\b\b 99%\b\b\b\b\b  OK \n",
            "Extracting  train/labels/59.txt                                          \b\b\b\b 99%\b\b\b\b\b  OK \n",
            "Extracting  train/labels/6.txt                                           \b\b\b\b 99%\b\b\b\b\b  OK \n",
            "Extracting  train/labels/60.txt                                          \b\b\b\b 99%\b\b\b\b\b  OK \n",
            "Extracting  train/labels/61.txt                                          \b\b\b\b 99%\b\b\b\b\b  OK \n",
            "Extracting  train/labels/62.txt                                          \b\b\b\b 99%\b\b\b\b\b  OK \n",
            "Extracting  train/labels/63.txt                                          \b\b\b\b 99%\b\b\b\b\b  OK \n",
            "Extracting  train/labels/64.txt                                          \b\b\b\b 99%\b\b\b\b\b  OK \n",
            "Extracting  train/labels/65.txt                                          \b\b\b\b 99%\b\b\b\b\b  OK \n",
            "Extracting  train/labels/66.txt                                          \b\b\b\b 99%\b\b\b\b\b  OK \n",
            "Extracting  train/labels/67.txt                                          \b\b\b\b 99%\b\b\b\b\b  OK \n",
            "Extracting  train/labels/68.txt                                          \b\b\b\b 99%\b\b\b\b\b  OK \n",
            "Extracting  train/labels/69.txt                                          \b\b\b\b 99%\b\b\b\b\b  OK \n",
            "Extracting  train/labels/7.txt                                           \b\b\b\b 99%\b\b\b\b\b  OK \n",
            "Extracting  train/labels/70.txt                                          \b\b\b\b 99%\b\b\b\b\b  OK \n",
            "Extracting  train/labels/71.txt                                          \b\b\b\b 99%\b\b\b\b\b  OK \n",
            "Extracting  train/labels/72.txt                                          \b\b\b\b 99%\b\b\b\b\b  OK \n",
            "Extracting  train/labels/73.txt                                          \b\b\b\b 99%\b\b\b\b\b  OK \n",
            "Extracting  train/labels/74.txt                                          \b\b\b\b 99%\b\b\b\b\b  OK \n",
            "Extracting  train/labels/75.txt                                          \b\b\b\b 99%\b\b\b\b\b  OK \n",
            "Extracting  train/labels/76.txt                                          \b\b\b\b 99%\b\b\b\b\b  OK \n",
            "Extracting  train/labels/77.txt                                          \b\b\b\b 99%\b\b\b\b\b  OK \n",
            "Extracting  train/labels/78.txt                                          \b\b\b\b 99%\b\b\b\b\b  OK \n",
            "Extracting  train/labels/79.txt                                          \b\b\b\b 99%\b\b\b\b\b  OK \n",
            "Extracting  train/labels/8.txt                                           \b\b\b\b 99%\b\b\b\b\b  OK \n",
            "Extracting  train/labels/80.txt                                          \b\b\b\b 99%\b\b\b\b\b  OK \n",
            "Extracting  train/labels/81.txt                                          \b\b\b\b 99%\b\b\b\b\b  OK \n",
            "Extracting  train/labels/82.txt                                          \b\b\b\b 99%\b\b\b\b\b  OK \n",
            "Extracting  train/labels/83.txt                                          \b\b\b\b 99%\b\b\b\b\b  OK \n",
            "Extracting  train/labels/84.txt                                          \b\b\b\b 99%\b\b\b\b\b  OK \n",
            "Extracting  train/labels/85.txt                                          \b\b\b\b 99%\b\b\b\b\b  OK \n",
            "Extracting  train/labels/86.txt                                          \b\b\b\b 99%\b\b\b\b\b  OK \n",
            "Extracting  train/labels/87.txt                                          \b\b\b\b 99%\b\b\b\b\b  OK \n",
            "Extracting  train/labels/88.txt                                          \b\b\b\b 99%\b\b\b\b\b  OK \n",
            "Extracting  train/labels/89.txt                                          \b\b\b\b 99%\b\b\b\b\b  OK \n",
            "Extracting  train/labels/9.txt                                           \b\b\b\b 99%\b\b\b\b\b  OK \n",
            "Extracting  train/labels/90.txt                                          \b\b\b\b 99%\b\b\b\b\b  OK \n",
            "Extracting  train/labels/91.txt                                          \b\b\b\b 99%\b\b\b\b\b  OK \n",
            "Extracting  train/labels/92.txt                                          \b\b\b\b 99%\b\b\b\b\b  OK \n",
            "Extracting  train/labels/93.txt                                          \b\b\b\b 99%\b\b\b\b\b  OK \n",
            "Extracting  train/labels/94.txt                                          \b\b\b\b 99%\b\b\b\b\b  OK \n",
            "Extracting  train/labels/95.txt                                          \b\b\b\b 99%\b\b\b\b\b  OK \n",
            "Extracting  train/labels/96.txt                                          \b\b\b\b 99%\b\b\b\b\b  OK \n",
            "Extracting  train/labels/97.txt                                          \b\b\b\b 99%\b\b\b\b\b  OK \n",
            "Extracting  train/labels/98.txt                                          \b\b\b\b 99%\b\b\b\b\b  OK \n",
            "Extracting  train/labels/99.txt                                          \b\b\b\b 99%\b\b\b\b\b  OK \n",
            "All OK\n"
          ]
        }
      ]
    },
    {
      "cell_type": "markdown",
      "metadata": {
        "id": "hkAzDWJ7cWTr"
      },
      "source": [
        "&nbsp;&nbsp;&nbsp;&nbsp;&nbsp;&nbsp;&nbsp;&nbsp;\n",
        "<img align=\"left\" src=\"https://user-images.githubusercontent.com/26833433/212889447-69e5bdf1-5800-4e29-835e-2ed2336dede2.jpg\" width=\"600\">"
      ]
    },
    {
      "cell_type": "markdown",
      "metadata": {
        "id": "0eq1SMWl6Sfn"
      },
      "source": [
        "# 2. Val\n",
        "Validate a model's accuracy on the [COCO](https://docs.ultralytics.com/datasets/detect/coco/) dataset's `val` or `test` splits. The latest YOLO11 [models](https://github.com/ultralytics/ultralytics#models) are downloaded automatically the first time they are used. See [YOLO11 Val Docs](https://docs.ultralytics.com/modes/val/) for more information."
      ]
    },
    {
      "cell_type": "code",
      "metadata": {
        "id": "WQPtK1QYVaD_"
      },
      "source": [
        "# Download COCO val\n",
        "import torch\n",
        "torch.hub.download_url_to_file('https://ultralytics.com/assets/coco2017val.zip', 'tmp.zip')  # download (780M - 5000 images)\n",
        "!unzip -q tmp.zip -d datasets && rm tmp.zip  # unzip"
      ],
      "execution_count": null,
      "outputs": []
    },
    {
      "cell_type": "code",
      "metadata": {
        "id": "X58w8JLpMnjH",
        "outputId": "af2a5deb-029b-466d-96a4-bd3e406987fa",
        "colab": {
          "base_uri": "https://localhost:8080/"
        }
      },
      "source": [
        "# Validate YOLO11n on COCO8 val\n",
        "!yolo val model=yolo11n.pt data=coco8.yaml"
      ],
      "execution_count": null,
      "outputs": [
        {
          "output_type": "stream",
          "name": "stdout",
          "text": [
            "Ultralytics 8.3.2 🚀 Python-3.10.12 torch-2.4.1+cu121 CUDA:0 (Tesla T4, 15102MiB)\n",
            "YOLO11n summary (fused): 238 layers, 2,616,248 parameters, 0 gradients, 6.5 GFLOPs\n",
            "\n",
            "Dataset 'coco8.yaml' images not found ⚠️, missing path '/content/datasets/coco8/images/val'\n",
            "Downloading https://ultralytics.com/assets/coco8.zip to '/content/datasets/coco8.zip'...\n",
            "100% 433k/433k [00:00<00:00, 15.8MB/s]\n",
            "Unzipping /content/datasets/coco8.zip to /content/datasets/coco8...: 100% 25/25 [00:00<00:00, 1188.35file/s]\n",
            "Dataset download success ✅ (1.4s), saved to \u001b[1m/content/datasets\u001b[0m\n",
            "\n",
            "Downloading https://ultralytics.com/assets/Arial.ttf to '/root/.config/Ultralytics/Arial.ttf'...\n",
            "100% 755k/755k [00:00<00:00, 17.7MB/s]\n",
            "\u001b[34m\u001b[1mval: \u001b[0mScanning /content/datasets/coco8/labels/val... 4 images, 0 backgrounds, 0 corrupt: 100% 4/4 [00:00<00:00, 142.04it/s]\n",
            "\u001b[34m\u001b[1mval: \u001b[0mNew cache created: /content/datasets/coco8/labels/val.cache\n",
            "                 Class     Images  Instances      Box(P          R      mAP50  mAP50-95): 100% 1/1 [00:04<00:00,  4.75s/it]\n",
            "                   all          4         17       0.57       0.85      0.847      0.632\n",
            "                person          3         10      0.557        0.6      0.585      0.272\n",
            "                   dog          1          1      0.548          1      0.995      0.697\n",
            "                 horse          1          2      0.531          1      0.995      0.674\n",
            "              elephant          1          2      0.371        0.5      0.516      0.256\n",
            "              umbrella          1          1      0.569          1      0.995      0.995\n",
            "          potted plant          1          1      0.847          1      0.995      0.895\n",
            "Speed: 1.0ms preprocess, 73.8ms inference, 0.0ms loss, 561.4ms postprocess per image\n",
            "Results saved to \u001b[1mruns/detect/val\u001b[0m\n",
            "💡 Learn more at https://docs.ultralytics.com/modes/val\n"
          ]
        }
      ]
    },
    {
      "cell_type": "markdown",
      "metadata": {
        "id": "ZY2VXXXu74w5"
      },
      "source": [
        "# 3. Train\n",
        "\n",
        "<p align=\"\"><a href=\"https://ultralytics.com/hub\"><img width=\"1000\" src=\"https://github.com/ultralytics/assets/raw/main/yolov8/banner-integrations.png\"/></a></p>\n",
        "\n",
        "Train YOLO11 on [Detect](https://docs.ultralytics.com/tasks/detect/), [Segment](https://docs.ultralytics.com/tasks/segment/), [Classify](https://docs.ultralytics.com/tasks/classify/) and [Pose](https://docs.ultralytics.com/tasks/pose/) datasets. See [YOLO11 Train Docs](https://docs.ultralytics.com/modes/train/) for more information."
      ]
    },
    {
      "cell_type": "code",
      "source": [
        "#@title Select YOLO11 🚀 logger {run: 'auto'}\n",
        "logger = 'Comet' #@param ['Comet', 'TensorBoard']\n",
        "\n",
        "if logger == 'Comet':\n",
        "  %pip install -q comet_ml\n",
        "  import comet_ml; comet_ml.init()\n",
        "elif logger == 'TensorBoard':\n",
        "  %load_ext tensorboard\n",
        "  %tensorboard --logdir ."
      ],
      "metadata": {
        "id": "ktegpM42AooT"
      },
      "execution_count": null,
      "outputs": []
    },
    {
      "cell_type": "code",
      "metadata": {
        "id": "1NcFxRcFdJ_O",
        "outputId": "952f35f7-666f-4121-fbdf-2b3a33b28081",
        "colab": {
          "base_uri": "https://localhost:8080/"
        }
      },
      "source": [
        "# Train YOLO11n on COCO8 for 3 epochs\n",
        "!yolo train model=yolo11n.pt data=coco8.yaml epochs=3 imgsz=640"
      ],
      "execution_count": null,
      "outputs": [
        {
          "output_type": "stream",
          "name": "stdout",
          "text": [
            "Ultralytics 8.3.2 🚀 Python-3.10.12 torch-2.4.1+cu121 CUDA:0 (Tesla T4, 15102MiB)\n",
            "\u001b[34m\u001b[1mengine/trainer: \u001b[0mtask=detect, mode=train, model=yolo11n.pt, data=coco8.yaml, epochs=3, time=None, patience=100, batch=16, imgsz=640, save=True, save_period=-1, cache=False, device=None, workers=8, project=None, name=train3, exist_ok=False, pretrained=True, optimizer=auto, verbose=True, seed=0, deterministic=True, single_cls=False, rect=False, cos_lr=False, close_mosaic=10, resume=False, amp=True, fraction=1.0, profile=False, freeze=None, multi_scale=False, overlap_mask=True, mask_ratio=4, dropout=0.0, val=True, split=val, save_json=False, save_hybrid=False, conf=None, iou=0.7, max_det=300, half=False, dnn=False, plots=True, source=None, vid_stride=1, stream_buffer=False, visualize=False, augment=False, agnostic_nms=False, classes=None, retina_masks=False, embed=None, show=False, save_frames=False, save_txt=False, save_conf=False, save_crop=False, show_labels=True, show_conf=True, show_boxes=True, line_width=None, format=torchscript, keras=False, optimize=False, int8=False, dynamic=False, simplify=True, opset=None, workspace=4, nms=False, lr0=0.01, lrf=0.01, momentum=0.937, weight_decay=0.0005, warmup_epochs=3.0, warmup_momentum=0.8, warmup_bias_lr=0.1, box=7.5, cls=0.5, dfl=1.5, pose=12.0, kobj=1.0, label_smoothing=0.0, nbs=64, hsv_h=0.015, hsv_s=0.7, hsv_v=0.4, degrees=0.0, translate=0.1, scale=0.5, shear=0.0, perspective=0.0, flipud=0.0, fliplr=0.5, bgr=0.0, mosaic=1.0, mixup=0.0, copy_paste=0.0, copy_paste_mode=flip, auto_augment=randaugment, erasing=0.4, crop_fraction=1.0, cfg=None, tracker=botsort.yaml, save_dir=runs/detect/train3\n",
            "\n",
            "                   from  n    params  module                                       arguments                     \n",
            "  0                  -1  1       464  ultralytics.nn.modules.conv.Conv             [3, 16, 3, 2]                 \n",
            "  1                  -1  1      4672  ultralytics.nn.modules.conv.Conv             [16, 32, 3, 2]                \n",
            "  2                  -1  1      6640  ultralytics.nn.modules.block.C3k2            [32, 64, 1, False, 0.25]      \n",
            "  3                  -1  1     36992  ultralytics.nn.modules.conv.Conv             [64, 64, 3, 2]                \n",
            "  4                  -1  1     26080  ultralytics.nn.modules.block.C3k2            [64, 128, 1, False, 0.25]     \n",
            "  5                  -1  1    147712  ultralytics.nn.modules.conv.Conv             [128, 128, 3, 2]              \n",
            "  6                  -1  1     87040  ultralytics.nn.modules.block.C3k2            [128, 128, 1, True]           \n",
            "  7                  -1  1    295424  ultralytics.nn.modules.conv.Conv             [128, 256, 3, 2]              \n",
            "  8                  -1  1    346112  ultralytics.nn.modules.block.C3k2            [256, 256, 1, True]           \n",
            "  9                  -1  1    164608  ultralytics.nn.modules.block.SPPF            [256, 256, 5]                 \n",
            " 10                  -1  1    249728  ultralytics.nn.modules.block.C2PSA           [256, 256, 1]                 \n",
            " 11                  -1  1         0  torch.nn.modules.upsampling.Upsample         [None, 2, 'nearest']          \n",
            " 12             [-1, 6]  1         0  ultralytics.nn.modules.conv.Concat           [1]                           \n",
            " 13                  -1  1    111296  ultralytics.nn.modules.block.C3k2            [384, 128, 1, False]          \n",
            " 14                  -1  1         0  torch.nn.modules.upsampling.Upsample         [None, 2, 'nearest']          \n",
            " 15             [-1, 4]  1         0  ultralytics.nn.modules.conv.Concat           [1]                           \n",
            " 16                  -1  1     32096  ultralytics.nn.modules.block.C3k2            [256, 64, 1, False]           \n",
            " 17                  -1  1     36992  ultralytics.nn.modules.conv.Conv             [64, 64, 3, 2]                \n",
            " 18            [-1, 13]  1         0  ultralytics.nn.modules.conv.Concat           [1]                           \n",
            " 19                  -1  1     86720  ultralytics.nn.modules.block.C3k2            [192, 128, 1, False]          \n",
            " 20                  -1  1    147712  ultralytics.nn.modules.conv.Conv             [128, 128, 3, 2]              \n",
            " 21            [-1, 10]  1         0  ultralytics.nn.modules.conv.Concat           [1]                           \n",
            " 22                  -1  1    378880  ultralytics.nn.modules.block.C3k2            [384, 256, 1, True]           \n",
            " 23        [16, 19, 22]  1    464912  ultralytics.nn.modules.head.Detect           [80, [64, 128, 256]]          \n",
            "YOLO11n summary: 319 layers, 2,624,080 parameters, 2,624,064 gradients, 6.6 GFLOPs\n",
            "\n",
            "Transferred 499/499 items from pretrained weights\n",
            "\u001b[34m\u001b[1mTensorBoard: \u001b[0mStart with 'tensorboard --logdir runs/detect/train', view at http://localhost:6006/\n",
            "Freezing layer 'model.23.dfl.conv.weight'\n",
            "\u001b[34m\u001b[1mAMP: \u001b[0mrunning Automatic Mixed Precision (AMP) checks with YOLO11n...\n",
            "\u001b[34m\u001b[1mAMP: \u001b[0mchecks passed ✅\n",
            "\u001b[34m\u001b[1mtrain: \u001b[0mScanning /content/datasets/coco8/labels/train.cache... 4 images, 0 backgrounds, 0 corrupt: 100% 4/4 [00:00<?, ?it/s]\n",
            "\u001b[34m\u001b[1malbumentations: \u001b[0mBlur(p=0.01, blur_limit=(3, 7)), MedianBlur(p=0.01, blur_limit=(3, 7)), ToGray(p=0.01, num_output_channels=3, method='weighted_average'), CLAHE(p=0.01, clip_limit=(1, 4.0), tile_grid_size=(8, 8))\n",
            "\u001b[34m\u001b[1mval: \u001b[0mScanning /content/datasets/coco8/labels/val.cache... 4 images, 0 backgrounds, 0 corrupt: 100% 4/4 [00:00<?, ?it/s]\n",
            "Plotting labels to runs/detect/train/labels.jpg... \n",
            "\u001b[34m\u001b[1moptimizer:\u001b[0m 'optimizer=auto' found, ignoring 'lr0=0.01' and 'momentum=0.937' and determining best 'optimizer', 'lr0' and 'momentum' automatically... \n",
            "\u001b[34m\u001b[1moptimizer:\u001b[0m AdamW(lr=0.000119, momentum=0.9) with parameter groups 81 weight(decay=0.0), 88 weight(decay=0.0005), 87 bias(decay=0.0)\n",
            "\u001b[34m\u001b[1mTensorBoard: \u001b[0mmodel graph visualization added ✅\n",
            "Image sizes 640 train, 640 val\n",
            "Using 2 dataloader workers\n",
            "Logging results to \u001b[1mruns/detect/train\u001b[0m\n",
            "Starting training for 3 epochs...\n",
            "\n",
            "      Epoch    GPU_mem   box_loss   cls_loss   dfl_loss  Instances       Size\n",
            "        1/3     0.719G      1.004      3.249      1.367         30        640: 100% 1/1 [00:00<00:00,  1.16it/s]\n",
            "                 Class     Images  Instances      Box(P          R      mAP50  mAP50-95): 100% 1/1 [00:00<00:00,  5.07it/s]\n",
            "                   all          4         17       0.58       0.85      0.849      0.631\n",
            "\n",
            "      Epoch    GPU_mem   box_loss   cls_loss   dfl_loss  Instances       Size\n",
            "        2/3     0.715G       1.31      4.043      1.603         35        640: 100% 1/1 [00:00<00:00,  6.88it/s]\n",
            "                 Class     Images  Instances      Box(P          R      mAP50  mAP50-95): 100% 1/1 [00:00<00:00,  9.08it/s]\n",
            "                   all          4         17      0.581       0.85      0.851       0.63\n",
            "\n",
            "      Epoch    GPU_mem   box_loss   cls_loss   dfl_loss  Instances       Size\n",
            "        3/3     0.692G      1.134      3.174      1.599         18        640: 100% 1/1 [00:00<00:00,  6.75it/s]\n",
            "                 Class     Images  Instances      Box(P          R      mAP50  mAP50-95): 100% 1/1 [00:00<00:00, 11.60it/s]\n",
            "                   all          4         17      0.582       0.85      0.855      0.632\n",
            "\n",
            "3 epochs completed in 0.003 hours.\n",
            "Optimizer stripped from runs/detect/train/weights/last.pt, 5.5MB\n",
            "Optimizer stripped from runs/detect/train/weights/best.pt, 5.5MB\n",
            "\n",
            "Validating runs/detect/train/weights/best.pt...\n",
            "Ultralytics 8.3.2 🚀 Python-3.10.12 torch-2.4.1+cu121 CUDA:0 (Tesla T4, 15102MiB)\n",
            "YOLO11n summary (fused): 238 layers, 2,616,248 parameters, 0 gradients, 6.5 GFLOPs\n",
            "                 Class     Images  Instances      Box(P          R      mAP50  mAP50-95): 100% 1/1 [00:00<00:00, 23.42it/s]\n",
            "                   all          4         17      0.579       0.85      0.855      0.615\n",
            "                person          3         10      0.579        0.6      0.623      0.268\n",
            "                   dog          1          1      0.549          1      0.995      0.697\n",
            "                 horse          1          2      0.553          1      0.995      0.675\n",
            "              elephant          1          2      0.364        0.5      0.528      0.261\n",
            "              umbrella          1          1      0.571          1      0.995      0.895\n",
            "          potted plant          1          1      0.857          1      0.995      0.895\n",
            "Speed: 0.2ms preprocess, 4.3ms inference, 0.0ms loss, 1.2ms postprocess per image\n",
            "Results saved to \u001b[1mruns/detect/train\u001b[0m\n",
            "💡 Learn more at https://docs.ultralytics.com/modes/train\n"
          ]
        }
      ]
    },
    {
      "cell_type": "markdown",
      "source": [
        "# 4. Export\n",
        "\n",
        "Export a YOLO11 model to any supported format below with the `format` argument, i.e. `format=onnx`. See [YOLO11 Export Docs](https://docs.ultralytics.com/modes/export/) for more information.\n",
        "\n",
        "- 💡 ProTip: Export to [ONNX](https://docs.ultralytics.com/integrations/onnx/) or [OpenVINO](https://docs.ultralytics.com/integrations/openvino/) for up to 3x CPU speedup.  \n",
        "- 💡 ProTip: Export to [TensorRT](https://docs.ultralytics.com/integrations/tensorrt/) for up to 5x GPU speedup.\n",
        "\n",
        "| Format                                                                   | `format` Argument | Model                     | Metadata | Arguments                                                            |\n",
        "|--------------------------------------------------------------------------|-------------------|---------------------------|----------|----------------------------------------------------------------------|\n",
        "| [PyTorch](https://pytorch.org/)                                          | -                 | `yolo11n.pt`              | ✅        | -                                                                    |\n",
        "| [TorchScript](https://docs.ultralytics.com/integrations/torchscript)     | `torchscript`     | `yolo11n.torchscript`     | ✅        | `imgsz`, `optimize`, `batch`                                         |\n",
        "| [ONNX](https://docs.ultralytics.com/integrations/onnx)                   | `onnx`            | `yolo11n.onnx`            | ✅        | `imgsz`, `half`, `dynamic`, `simplify`, `opset`, `batch`             |\n",
        "| [OpenVINO](https://docs.ultralytics.com/integrations/openvino)           | `openvino`        | `yolo11n_openvino_model/` | ✅        | `imgsz`, `half`, `int8`, `batch`                                     |\n",
        "| [TensorRT](https://docs.ultralytics.com/integrations/tensorrt)           | `engine`          | `yolo11n.engine`          | ✅        | `imgsz`, `half`, `dynamic`, `simplify`, `workspace`, `int8`, `batch` |\n",
        "| [CoreML](https://docs.ultralytics.com/integrations/coreml)               | `coreml`          | `yolo11n.mlpackage`       | ✅        | `imgsz`, `half`, `int8`, `nms`, `batch`                              |\n",
        "| [TF SavedModel](https://docs.ultralytics.com/integrations/tf-savedmodel) | `saved_model`     | `yolo11n_saved_model/`    | ✅        | `imgsz`, `keras`, `int8`, `batch`                                    |\n",
        "| [TF GraphDef](https://docs.ultralytics.com/integrations/tf-graphdef)     | `pb`              | `yolo11n.pb`              | ❌        | `imgsz`, `batch`                                                     |\n",
        "| [TF Lite](https://docs.ultralytics.com/integrations/tflite)              | `tflite`          | `yolo11n.tflite`          | ✅        | `imgsz`, `half`, `int8`, `batch`                                     |\n",
        "| [TF Edge TPU](https://docs.ultralytics.com/integrations/edge-tpu)        | `edgetpu`         | `yolo11n_edgetpu.tflite`  | ✅        | `imgsz`                                                              |\n",
        "| [TF.js](https://docs.ultralytics.com/integrations/tfjs)                  | `tfjs`            | `yolo11n_web_model/`      | ✅        | `imgsz`, `half`, `int8`, `batch`                                     |\n",
        "| [PaddlePaddle](https://docs.ultralytics.com/integrations/paddlepaddle)   | `paddle`          | `yolo11n_paddle_model/`   | ✅        | `imgsz`, `batch`                                                     |\n",
        "| [NCNN](https://docs.ultralytics.com/integrations/ncnn)                   | `ncnn`            | `yolo11n_ncnn_model/`     | ✅        | `imgsz`, `half`, `batch`                                             |"
      ],
      "metadata": {
        "id": "nPZZeNrLCQG6"
      }
    },
    {
      "cell_type": "code",
      "source": [
        "!yolo export model=yolo11n.pt format=torchscript"
      ],
      "metadata": {
        "colab": {
          "base_uri": "https://localhost:8080/"
        },
        "id": "CYIjW4igCjqD",
        "outputId": "5357fa04-6749-4508-effe-8d4078533539"
      },
      "execution_count": null,
      "outputs": [
        {
          "output_type": "stream",
          "name": "stdout",
          "text": [
            "Ultralytics 8.3.2 🚀 Python-3.10.12 torch-2.4.1+cu121 CPU (Intel Xeon 2.20GHz)\n",
            "YOLO11n summary (fused): 238 layers, 2,616,248 parameters, 0 gradients, 6.5 GFLOPs\n",
            "\n",
            "\u001b[34m\u001b[1mPyTorch:\u001b[0m starting from 'yolo11n.pt' with input shape (1, 3, 640, 640) BCHW and output shape(s) (1, 84, 8400) (5.4 MB)\n",
            "\n",
            "\u001b[34m\u001b[1mTorchScript:\u001b[0m starting export with torch 2.4.1+cu121...\n",
            "\u001b[34m\u001b[1mTorchScript:\u001b[0m export success ✅ 2.4s, saved as 'yolo11n.torchscript' (10.5 MB)\n",
            "\n",
            "Export complete (4.2s)\n",
            "Results saved to \u001b[1m/content\u001b[0m\n",
            "Predict:         yolo predict task=detect model=yolo11n.torchscript imgsz=640  \n",
            "Validate:        yolo val task=detect model=yolo11n.torchscript imgsz=640 data=coco.yaml  \n",
            "Visualize:       https://netron.app\n",
            "💡 Learn more at https://docs.ultralytics.com/modes/export\n"
          ]
        }
      ]
    },
    {
      "cell_type": "markdown",
      "source": [
        "# 5. Python Usage\n",
        "\n",
        "YOLO11 was reimagined using Python-first principles for the most seamless Python YOLO experience yet. YOLO11 models can be loaded from a trained checkpoint or created from scratch. Then methods are used to train, val, predict, and export the model. See detailed Python usage examples in the [YOLO11 Python Docs](https://docs.ultralytics.com/usage/python/)."
      ],
      "metadata": {
        "id": "kUMOQ0OeDBJG"
      }
    },
    {
      "cell_type": "code",
      "source": [
        "from ultralytics import YOLO\n",
        "\n",
        "# Load a model\n",
        "model = YOLO('yolo11n.yaml')  # build a new model from scratch\n",
        "model = YOLO('yolo11n.pt')  # load a pretrained model (recommended for training)\n",
        "\n",
        "# Use the model\n",
        "results = model.train(data='/content/data.yaml', epochs=100)  # train the model\n",
        "results = model.val()  # evaluate model performance on the validation set\n",
        "results = model('https://ultralytics.com/images/bus.jpg')  # predict on an image\n",
        "results = model.export(format='onnx')  # export the model to ONNX format"
      ],
      "metadata": {
        "id": "bpF9-vS_DAaf",
        "outputId": "a902b315-0cc5-42f7-bb96-e0092f731c09",
        "colab": {
          "base_uri": "https://localhost:8080/"
        }
      },
      "execution_count": 5,
      "outputs": [
        {
          "output_type": "stream",
          "name": "stdout",
          "text": [
            "Ultralytics 8.3.48 🚀 Python-3.10.12 torch-2.5.1+cu121 CUDA:0 (Tesla T4, 15102MiB)\n",
            "\u001b[34m\u001b[1mengine/trainer: \u001b[0mtask=detect, mode=train, model=yolo11n.pt, data=/content/data.yaml, epochs=100, time=None, patience=100, batch=16, imgsz=640, save=True, save_period=-1, cache=False, device=None, workers=8, project=None, name=train3, exist_ok=False, pretrained=True, optimizer=auto, verbose=True, seed=0, deterministic=True, single_cls=False, rect=False, cos_lr=False, close_mosaic=10, resume=False, amp=True, fraction=1.0, profile=False, freeze=None, multi_scale=False, overlap_mask=True, mask_ratio=4, dropout=0.0, val=True, split=val, save_json=False, save_hybrid=False, conf=None, iou=0.7, max_det=300, half=False, dnn=False, plots=True, source=None, vid_stride=1, stream_buffer=False, visualize=False, augment=False, agnostic_nms=False, classes=None, retina_masks=False, embed=None, show=False, save_frames=False, save_txt=False, save_conf=False, save_crop=False, show_labels=True, show_conf=True, show_boxes=True, line_width=None, format=torchscript, keras=False, optimize=False, int8=False, dynamic=False, simplify=True, opset=None, workspace=None, nms=False, lr0=0.01, lrf=0.01, momentum=0.937, weight_decay=0.0005, warmup_epochs=3.0, warmup_momentum=0.8, warmup_bias_lr=0.1, box=7.5, cls=0.5, dfl=1.5, pose=12.0, kobj=1.0, nbs=64, hsv_h=0.015, hsv_s=0.7, hsv_v=0.4, degrees=0.0, translate=0.1, scale=0.5, shear=0.0, perspective=0.0, flipud=0.0, fliplr=0.5, bgr=0.0, mosaic=1.0, mixup=0.0, copy_paste=0.0, copy_paste_mode=flip, auto_augment=randaugment, erasing=0.4, crop_fraction=1.0, cfg=None, tracker=botsort.yaml, save_dir=runs/detect/train3\n",
            "Overriding model.yaml nc=80 with nc=2\n",
            "\n",
            "                   from  n    params  module                                       arguments                     \n",
            "  0                  -1  1       464  ultralytics.nn.modules.conv.Conv             [3, 16, 3, 2]                 \n",
            "  1                  -1  1      4672  ultralytics.nn.modules.conv.Conv             [16, 32, 3, 2]                \n",
            "  2                  -1  1      6640  ultralytics.nn.modules.block.C3k2            [32, 64, 1, False, 0.25]      \n",
            "  3                  -1  1     36992  ultralytics.nn.modules.conv.Conv             [64, 64, 3, 2]                \n",
            "  4                  -1  1     26080  ultralytics.nn.modules.block.C3k2            [64, 128, 1, False, 0.25]     \n",
            "  5                  -1  1    147712  ultralytics.nn.modules.conv.Conv             [128, 128, 3, 2]              \n",
            "  6                  -1  1     87040  ultralytics.nn.modules.block.C3k2            [128, 128, 1, True]           \n",
            "  7                  -1  1    295424  ultralytics.nn.modules.conv.Conv             [128, 256, 3, 2]              \n",
            "  8                  -1  1    346112  ultralytics.nn.modules.block.C3k2            [256, 256, 1, True]           \n",
            "  9                  -1  1    164608  ultralytics.nn.modules.block.SPPF            [256, 256, 5]                 \n",
            " 10                  -1  1    249728  ultralytics.nn.modules.block.C2PSA           [256, 256, 1]                 \n",
            " 11                  -1  1         0  torch.nn.modules.upsampling.Upsample         [None, 2, 'nearest']          \n",
            " 12             [-1, 6]  1         0  ultralytics.nn.modules.conv.Concat           [1]                           \n",
            " 13                  -1  1    111296  ultralytics.nn.modules.block.C3k2            [384, 128, 1, False]          \n",
            " 14                  -1  1         0  torch.nn.modules.upsampling.Upsample         [None, 2, 'nearest']          \n",
            " 15             [-1, 4]  1         0  ultralytics.nn.modules.conv.Concat           [1]                           \n",
            " 16                  -1  1     32096  ultralytics.nn.modules.block.C3k2            [256, 64, 1, False]           \n",
            " 17                  -1  1     36992  ultralytics.nn.modules.conv.Conv             [64, 64, 3, 2]                \n",
            " 18            [-1, 13]  1         0  ultralytics.nn.modules.conv.Concat           [1]                           \n",
            " 19                  -1  1     86720  ultralytics.nn.modules.block.C3k2            [192, 128, 1, False]          \n",
            " 20                  -1  1    147712  ultralytics.nn.modules.conv.Conv             [128, 128, 3, 2]              \n",
            " 21            [-1, 10]  1         0  ultralytics.nn.modules.conv.Concat           [1]                           \n",
            " 22                  -1  1    378880  ultralytics.nn.modules.block.C3k2            [384, 256, 1, True]           \n",
            " 23        [16, 19, 22]  1    431062  ultralytics.nn.modules.head.Detect           [2, [64, 128, 256]]           \n",
            "YOLO11n summary: 319 layers, 2,590,230 parameters, 2,590,214 gradients, 6.4 GFLOPs\n",
            "\n",
            "Transferred 448/499 items from pretrained weights\n",
            "\u001b[34m\u001b[1mTensorBoard: \u001b[0mStart with 'tensorboard --logdir runs/detect/train3', view at http://localhost:6006/\n",
            "Freezing layer 'model.23.dfl.conv.weight'\n",
            "\u001b[34m\u001b[1mAMP: \u001b[0mrunning Automatic Mixed Precision (AMP) checks...\n",
            "\u001b[34m\u001b[1mAMP: \u001b[0mchecks passed ✅\n"
          ]
        },
        {
          "output_type": "stream",
          "name": "stderr",
          "text": [
            "\u001b[34m\u001b[1mtrain: \u001b[0mScanning /content/train/labels.cache... 200 images, 0 backgrounds, 0 corrupt: 100%|██████████| 200/200 [00:00<?, ?it/s]"
          ]
        },
        {
          "output_type": "stream",
          "name": "stdout",
          "text": [
            "\u001b[34m\u001b[1malbumentations: \u001b[0mBlur(p=0.01, blur_limit=(3, 7)), MedianBlur(p=0.01, blur_limit=(3, 7)), ToGray(p=0.01, num_output_channels=3, method='weighted_average'), CLAHE(p=0.01, clip_limit=(1.0, 4.0), tile_grid_size=(8, 8))\n"
          ]
        },
        {
          "output_type": "stream",
          "name": "stderr",
          "text": [
            "\n",
            "\u001b[34m\u001b[1mval: \u001b[0mScanning /content/train/labels.cache... 200 images, 0 backgrounds, 0 corrupt: 100%|██████████| 200/200 [00:00<?, ?it/s]\n"
          ]
        },
        {
          "output_type": "stream",
          "name": "stdout",
          "text": [
            "Plotting labels to runs/detect/train3/labels.jpg... \n",
            "\u001b[34m\u001b[1moptimizer:\u001b[0m 'optimizer=auto' found, ignoring 'lr0=0.01' and 'momentum=0.937' and determining best 'optimizer', 'lr0' and 'momentum' automatically... \n",
            "\u001b[34m\u001b[1moptimizer:\u001b[0m AdamW(lr=0.001667, momentum=0.9) with parameter groups 81 weight(decay=0.0), 88 weight(decay=0.0005), 87 bias(decay=0.0)\n",
            "\u001b[34m\u001b[1mTensorBoard: \u001b[0mmodel graph visualization added ✅\n",
            "Image sizes 640 train, 640 val\n",
            "Using 2 dataloader workers\n",
            "Logging results to \u001b[1mruns/detect/train3\u001b[0m\n",
            "Starting training for 100 epochs...\n",
            "\n",
            "      Epoch    GPU_mem   box_loss   cls_loss   dfl_loss  Instances       Size\n"
          ]
        },
        {
          "output_type": "stream",
          "name": "stderr",
          "text": [
            "      1/100      2.43G      1.221      2.976      1.726         27        640: 100%|██████████| 13/13 [00:04<00:00,  3.06it/s]\n",
            "                 Class     Images  Instances      Box(P          R      mAP50  mAP50-95): 100%|██████████| 7/7 [00:01<00:00,  4.48it/s]"
          ]
        },
        {
          "output_type": "stream",
          "name": "stdout",
          "text": [
            "                   all        200        220    0.00371      0.983      0.352      0.164\n"
          ]
        },
        {
          "output_type": "stream",
          "name": "stderr",
          "text": [
            "\n"
          ]
        },
        {
          "output_type": "stream",
          "name": "stdout",
          "text": [
            "\n",
            "      Epoch    GPU_mem   box_loss   cls_loss   dfl_loss  Instances       Size\n"
          ]
        },
        {
          "output_type": "stream",
          "name": "stderr",
          "text": [
            "      2/100      2.35G      1.076      2.651      1.588         32        640: 100%|██████████| 13/13 [00:04<00:00,  2.86it/s]\n",
            "                 Class     Images  Instances      Box(P          R      mAP50  mAP50-95): 100%|██████████| 7/7 [00:02<00:00,  2.36it/s]\n"
          ]
        },
        {
          "output_type": "stream",
          "name": "stdout",
          "text": [
            "                   all        200        220    0.00359      0.974       0.38       0.19\n",
            "\n",
            "      Epoch    GPU_mem   box_loss   cls_loss   dfl_loss  Instances       Size\n"
          ]
        },
        {
          "output_type": "stream",
          "name": "stderr",
          "text": [
            "      3/100      2.36G      1.107      2.306      1.576         21        640: 100%|██████████| 13/13 [00:03<00:00,  3.83it/s]\n",
            "                 Class     Images  Instances      Box(P          R      mAP50  mAP50-95): 100%|██████████| 7/7 [00:01<00:00,  4.50it/s]"
          ]
        },
        {
          "output_type": "stream",
          "name": "stdout",
          "text": [
            "                   all        200        220    0.00368      0.996      0.426      0.231\n"
          ]
        },
        {
          "output_type": "stream",
          "name": "stderr",
          "text": [
            "\n"
          ]
        },
        {
          "output_type": "stream",
          "name": "stdout",
          "text": [
            "\n",
            "      Epoch    GPU_mem   box_loss   cls_loss   dfl_loss  Instances       Size\n"
          ]
        },
        {
          "output_type": "stream",
          "name": "stderr",
          "text": [
            "      4/100      2.35G      1.203      1.917      1.641         29        640: 100%|██████████| 13/13 [00:03<00:00,  3.99it/s]\n",
            "                 Class     Images  Instances      Box(P          R      mAP50  mAP50-95): 100%|██████████| 7/7 [00:02<00:00,  2.90it/s]"
          ]
        },
        {
          "output_type": "stream",
          "name": "stdout",
          "text": [
            "                   all        200        220      0.258      0.624       0.37      0.136\n"
          ]
        },
        {
          "output_type": "stream",
          "name": "stderr",
          "text": [
            "\n"
          ]
        },
        {
          "output_type": "stream",
          "name": "stdout",
          "text": [
            "\n",
            "      Epoch    GPU_mem   box_loss   cls_loss   dfl_loss  Instances       Size\n"
          ]
        },
        {
          "output_type": "stream",
          "name": "stderr",
          "text": [
            "      5/100      2.36G      1.283       1.75       1.69         28        640: 100%|██████████| 13/13 [00:05<00:00,  2.49it/s]\n",
            "                 Class     Images  Instances      Box(P          R      mAP50  mAP50-95): 100%|██████████| 7/7 [00:01<00:00,  4.47it/s]"
          ]
        },
        {
          "output_type": "stream",
          "name": "stdout",
          "text": [
            "                   all        200        220      0.641      0.297      0.488      0.199\n"
          ]
        },
        {
          "output_type": "stream",
          "name": "stderr",
          "text": [
            "\n"
          ]
        },
        {
          "output_type": "stream",
          "name": "stdout",
          "text": [
            "\n",
            "      Epoch    GPU_mem   box_loss   cls_loss   dfl_loss  Instances       Size\n"
          ]
        },
        {
          "output_type": "stream",
          "name": "stderr",
          "text": [
            "      6/100      2.36G      1.273      1.762      1.674         26        640: 100%|██████████| 13/13 [00:03<00:00,  3.89it/s]\n",
            "                 Class     Images  Instances      Box(P          R      mAP50  mAP50-95): 100%|██████████| 7/7 [00:01<00:00,  4.43it/s]"
          ]
        },
        {
          "output_type": "stream",
          "name": "stdout",
          "text": [
            "                   all        200        220      0.524      0.442      0.432      0.187\n"
          ]
        },
        {
          "output_type": "stream",
          "name": "stderr",
          "text": [
            "\n"
          ]
        },
        {
          "output_type": "stream",
          "name": "stdout",
          "text": [
            "\n",
            "      Epoch    GPU_mem   box_loss   cls_loss   dfl_loss  Instances       Size\n"
          ]
        },
        {
          "output_type": "stream",
          "name": "stderr",
          "text": [
            "      7/100      2.36G      1.215      1.618      1.638         24        640: 100%|██████████| 13/13 [00:04<00:00,  2.78it/s]\n",
            "                 Class     Images  Instances      Box(P          R      mAP50  mAP50-95): 100%|██████████| 7/7 [00:02<00:00,  2.43it/s]"
          ]
        },
        {
          "output_type": "stream",
          "name": "stdout",
          "text": [
            "                   all        200        220      0.448      0.613      0.454      0.206\n"
          ]
        },
        {
          "output_type": "stream",
          "name": "stderr",
          "text": [
            "\n"
          ]
        },
        {
          "output_type": "stream",
          "name": "stdout",
          "text": [
            "\n",
            "      Epoch    GPU_mem   box_loss   cls_loss   dfl_loss  Instances       Size\n"
          ]
        },
        {
          "output_type": "stream",
          "name": "stderr",
          "text": [
            "      8/100      2.37G      1.283      1.665      1.666         26        640: 100%|██████████| 13/13 [00:03<00:00,  3.96it/s]\n",
            "                 Class     Images  Instances      Box(P          R      mAP50  mAP50-95): 100%|██████████| 7/7 [00:01<00:00,  4.69it/s]"
          ]
        },
        {
          "output_type": "stream",
          "name": "stdout",
          "text": [
            "                   all        200        220      0.246       0.14     0.0912     0.0185\n"
          ]
        },
        {
          "output_type": "stream",
          "name": "stderr",
          "text": [
            "\n"
          ]
        },
        {
          "output_type": "stream",
          "name": "stdout",
          "text": [
            "\n",
            "      Epoch    GPU_mem   box_loss   cls_loss   dfl_loss  Instances       Size\n"
          ]
        },
        {
          "output_type": "stream",
          "name": "stderr",
          "text": [
            "      9/100      2.35G      1.305      1.595      1.728         22        640: 100%|██████████| 13/13 [00:03<00:00,  4.07it/s]\n",
            "                 Class     Images  Instances      Box(P          R      mAP50  mAP50-95): 100%|██████████| 7/7 [00:01<00:00,  3.50it/s]\n"
          ]
        },
        {
          "output_type": "stream",
          "name": "stdout",
          "text": [
            "                   all        200        220      0.301      0.208      0.178      0.074\n",
            "\n",
            "      Epoch    GPU_mem   box_loss   cls_loss   dfl_loss  Instances       Size\n"
          ]
        },
        {
          "output_type": "stream",
          "name": "stderr",
          "text": [
            "     10/100      2.37G      1.276      1.606      1.644         28        640: 100%|██████████| 13/13 [00:05<00:00,  2.53it/s]\n",
            "                 Class     Images  Instances      Box(P          R      mAP50  mAP50-95): 100%|██████████| 7/7 [00:01<00:00,  4.45it/s]"
          ]
        },
        {
          "output_type": "stream",
          "name": "stdout",
          "text": [
            "                   all        200        220      0.368      0.378      0.332      0.156\n"
          ]
        },
        {
          "output_type": "stream",
          "name": "stderr",
          "text": [
            "\n"
          ]
        },
        {
          "output_type": "stream",
          "name": "stdout",
          "text": [
            "\n",
            "      Epoch    GPU_mem   box_loss   cls_loss   dfl_loss  Instances       Size\n"
          ]
        },
        {
          "output_type": "stream",
          "name": "stderr",
          "text": [
            "     11/100      2.36G      1.219      1.573      1.627         21        640: 100%|██████████| 13/13 [00:03<00:00,  4.04it/s]\n",
            "                 Class     Images  Instances      Box(P          R      mAP50  mAP50-95): 100%|██████████| 7/7 [00:01<00:00,  5.07it/s]"
          ]
        },
        {
          "output_type": "stream",
          "name": "stdout",
          "text": [
            "                   all        200        220      0.403       0.37      0.261      0.101\n"
          ]
        },
        {
          "output_type": "stream",
          "name": "stderr",
          "text": [
            "\n"
          ]
        },
        {
          "output_type": "stream",
          "name": "stdout",
          "text": [
            "\n",
            "      Epoch    GPU_mem   box_loss   cls_loss   dfl_loss  Instances       Size\n"
          ]
        },
        {
          "output_type": "stream",
          "name": "stderr",
          "text": [
            "     12/100      2.36G      1.244      1.537       1.65         25        640: 100%|██████████| 13/13 [00:03<00:00,  3.28it/s]\n",
            "                 Class     Images  Instances      Box(P          R      mAP50  mAP50-95): 100%|██████████| 7/7 [00:02<00:00,  2.44it/s]\n"
          ]
        },
        {
          "output_type": "stream",
          "name": "stdout",
          "text": [
            "                   all        200        220      0.543      0.626      0.581      0.237\n",
            "\n",
            "      Epoch    GPU_mem   box_loss   cls_loss   dfl_loss  Instances       Size\n"
          ]
        },
        {
          "output_type": "stream",
          "name": "stderr",
          "text": [
            "     13/100      2.35G      1.208      1.467       1.65         27        640: 100%|██████████| 13/13 [00:03<00:00,  4.16it/s]\n",
            "                 Class     Images  Instances      Box(P          R      mAP50  mAP50-95): 100%|██████████| 7/7 [00:01<00:00,  4.80it/s]"
          ]
        },
        {
          "output_type": "stream",
          "name": "stdout",
          "text": [
            "                   all        200        220      0.614      0.723      0.677      0.289\n"
          ]
        },
        {
          "output_type": "stream",
          "name": "stderr",
          "text": [
            "\n"
          ]
        },
        {
          "output_type": "stream",
          "name": "stdout",
          "text": [
            "\n",
            "      Epoch    GPU_mem   box_loss   cls_loss   dfl_loss  Instances       Size\n"
          ]
        },
        {
          "output_type": "stream",
          "name": "stderr",
          "text": [
            "     14/100      2.38G      1.255      1.452       1.62         28        640: 100%|██████████| 13/13 [00:03<00:00,  4.12it/s]\n",
            "                 Class     Images  Instances      Box(P          R      mAP50  mAP50-95): 100%|██████████| 7/7 [00:01<00:00,  5.10it/s]"
          ]
        },
        {
          "output_type": "stream",
          "name": "stdout",
          "text": [
            "                   all        200        220      0.494      0.491      0.466       0.17\n"
          ]
        },
        {
          "output_type": "stream",
          "name": "stderr",
          "text": [
            "\n"
          ]
        },
        {
          "output_type": "stream",
          "name": "stdout",
          "text": [
            "\n",
            "      Epoch    GPU_mem   box_loss   cls_loss   dfl_loss  Instances       Size\n"
          ]
        },
        {
          "output_type": "stream",
          "name": "stderr",
          "text": [
            "     15/100      2.36G      1.225      1.415      1.646         19        640: 100%|██████████| 13/13 [00:05<00:00,  2.54it/s]\n",
            "                 Class     Images  Instances      Box(P          R      mAP50  mAP50-95): 100%|██████████| 7/7 [00:02<00:00,  3.05it/s]"
          ]
        },
        {
          "output_type": "stream",
          "name": "stdout",
          "text": [
            "                   all        200        220      0.543      0.621      0.618      0.285\n"
          ]
        },
        {
          "output_type": "stream",
          "name": "stderr",
          "text": [
            "\n"
          ]
        },
        {
          "output_type": "stream",
          "name": "stdout",
          "text": [
            "\n",
            "      Epoch    GPU_mem   box_loss   cls_loss   dfl_loss  Instances       Size\n"
          ]
        },
        {
          "output_type": "stream",
          "name": "stderr",
          "text": [
            "     16/100      2.36G      1.235       1.44      1.612         19        640: 100%|██████████| 13/13 [00:03<00:00,  3.99it/s]\n",
            "                 Class     Images  Instances      Box(P          R      mAP50  mAP50-95): 100%|██████████| 7/7 [00:01<00:00,  5.25it/s]"
          ]
        },
        {
          "output_type": "stream",
          "name": "stdout",
          "text": [
            "                   all        200        220      0.677      0.565      0.629      0.268\n"
          ]
        },
        {
          "output_type": "stream",
          "name": "stderr",
          "text": [
            "\n"
          ]
        },
        {
          "output_type": "stream",
          "name": "stdout",
          "text": [
            "\n",
            "      Epoch    GPU_mem   box_loss   cls_loss   dfl_loss  Instances       Size\n"
          ]
        },
        {
          "output_type": "stream",
          "name": "stderr",
          "text": [
            "     17/100      2.35G      1.198      1.334       1.62         30        640: 100%|██████████| 13/13 [00:03<00:00,  4.12it/s]\n",
            "                 Class     Images  Instances      Box(P          R      mAP50  mAP50-95): 100%|██████████| 7/7 [00:02<00:00,  3.46it/s]\n"
          ]
        },
        {
          "output_type": "stream",
          "name": "stdout",
          "text": [
            "                   all        200        220      0.636       0.56      0.672        0.3\n",
            "\n",
            "      Epoch    GPU_mem   box_loss   cls_loss   dfl_loss  Instances       Size\n"
          ]
        },
        {
          "output_type": "stream",
          "name": "stderr",
          "text": [
            "     18/100      2.36G      1.196      1.356      1.602         28        640: 100%|██████████| 13/13 [00:05<00:00,  2.52it/s]\n",
            "                 Class     Images  Instances      Box(P          R      mAP50  mAP50-95): 100%|██████████| 7/7 [00:01<00:00,  4.64it/s]"
          ]
        },
        {
          "output_type": "stream",
          "name": "stdout",
          "text": [
            "                   all        200        220      0.811      0.655        0.8      0.412\n"
          ]
        },
        {
          "output_type": "stream",
          "name": "stderr",
          "text": [
            "\n"
          ]
        },
        {
          "output_type": "stream",
          "name": "stdout",
          "text": [
            "\n",
            "      Epoch    GPU_mem   box_loss   cls_loss   dfl_loss  Instances       Size\n"
          ]
        },
        {
          "output_type": "stream",
          "name": "stderr",
          "text": [
            "     19/100      2.36G      1.151      1.276      1.569         23        640: 100%|██████████| 13/13 [00:03<00:00,  4.05it/s]\n",
            "                 Class     Images  Instances      Box(P          R      mAP50  mAP50-95): 100%|██████████| 7/7 [00:01<00:00,  4.95it/s]"
          ]
        },
        {
          "output_type": "stream",
          "name": "stdout",
          "text": [
            "                   all        200        220      0.706      0.794      0.819      0.464\n"
          ]
        },
        {
          "output_type": "stream",
          "name": "stderr",
          "text": [
            "\n"
          ]
        },
        {
          "output_type": "stream",
          "name": "stdout",
          "text": [
            "\n",
            "      Epoch    GPU_mem   box_loss   cls_loss   dfl_loss  Instances       Size\n"
          ]
        },
        {
          "output_type": "stream",
          "name": "stderr",
          "text": [
            "     20/100      2.36G      1.163      1.348      1.604         20        640: 100%|██████████| 13/13 [00:04<00:00,  3.19it/s]\n",
            "                 Class     Images  Instances      Box(P          R      mAP50  mAP50-95): 100%|██████████| 7/7 [00:02<00:00,  2.83it/s]\n"
          ]
        },
        {
          "output_type": "stream",
          "name": "stdout",
          "text": [
            "                   all        200        220      0.708      0.663      0.719      0.404\n",
            "\n",
            "      Epoch    GPU_mem   box_loss   cls_loss   dfl_loss  Instances       Size\n"
          ]
        },
        {
          "output_type": "stream",
          "name": "stderr",
          "text": [
            "     21/100      2.35G      1.153      1.222      1.566         25        640: 100%|██████████| 13/13 [00:03<00:00,  4.06it/s]\n",
            "                 Class     Images  Instances      Box(P          R      mAP50  mAP50-95): 100%|██████████| 7/7 [00:01<00:00,  4.89it/s]"
          ]
        },
        {
          "output_type": "stream",
          "name": "stdout",
          "text": [
            "                   all        200        220      0.732      0.696      0.775      0.424\n"
          ]
        },
        {
          "output_type": "stream",
          "name": "stderr",
          "text": [
            "\n"
          ]
        },
        {
          "output_type": "stream",
          "name": "stdout",
          "text": [
            "\n",
            "      Epoch    GPU_mem   box_loss   cls_loss   dfl_loss  Instances       Size\n"
          ]
        },
        {
          "output_type": "stream",
          "name": "stderr",
          "text": [
            "     22/100      2.36G      1.178      1.254      1.615         18        640: 100%|██████████| 13/13 [00:03<00:00,  4.11it/s]\n",
            "                 Class     Images  Instances      Box(P          R      mAP50  mAP50-95): 100%|██████████| 7/7 [00:01<00:00,  4.67it/s]"
          ]
        },
        {
          "output_type": "stream",
          "name": "stdout",
          "text": [
            "                   all        200        220      0.772      0.675      0.754      0.395\n"
          ]
        },
        {
          "output_type": "stream",
          "name": "stderr",
          "text": [
            "\n"
          ]
        },
        {
          "output_type": "stream",
          "name": "stdout",
          "text": [
            "\n",
            "      Epoch    GPU_mem   box_loss   cls_loss   dfl_loss  Instances       Size\n"
          ]
        },
        {
          "output_type": "stream",
          "name": "stderr",
          "text": [
            "     23/100      2.36G      1.121      1.207      1.559         17        640: 100%|██████████| 13/13 [00:05<00:00,  2.57it/s]\n",
            "                 Class     Images  Instances      Box(P          R      mAP50  mAP50-95): 100%|██████████| 7/7 [00:01<00:00,  4.24it/s]"
          ]
        },
        {
          "output_type": "stream",
          "name": "stdout",
          "text": [
            "                   all        200        220      0.701      0.597      0.671      0.343\n"
          ]
        },
        {
          "output_type": "stream",
          "name": "stderr",
          "text": [
            "\n"
          ]
        },
        {
          "output_type": "stream",
          "name": "stdout",
          "text": [
            "\n",
            "      Epoch    GPU_mem   box_loss   cls_loss   dfl_loss  Instances       Size\n"
          ]
        },
        {
          "output_type": "stream",
          "name": "stderr",
          "text": [
            "     24/100      2.36G      1.147      1.157      1.543         26        640: 100%|██████████| 13/13 [00:03<00:00,  3.92it/s]\n",
            "                 Class     Images  Instances      Box(P          R      mAP50  mAP50-95): 100%|██████████| 7/7 [00:01<00:00,  5.01it/s]"
          ]
        },
        {
          "output_type": "stream",
          "name": "stdout",
          "text": [
            "                   all        200        220      0.675      0.581      0.655      0.325\n"
          ]
        },
        {
          "output_type": "stream",
          "name": "stderr",
          "text": [
            "\n"
          ]
        },
        {
          "output_type": "stream",
          "name": "stdout",
          "text": [
            "\n",
            "      Epoch    GPU_mem   box_loss   cls_loss   dfl_loss  Instances       Size\n"
          ]
        },
        {
          "output_type": "stream",
          "name": "stderr",
          "text": [
            "     25/100      2.35G      1.116      1.101      1.525         24        640: 100%|██████████| 13/13 [00:03<00:00,  3.59it/s]\n",
            "                 Class     Images  Instances      Box(P          R      mAP50  mAP50-95): 100%|██████████| 7/7 [00:02<00:00,  3.12it/s]\n"
          ]
        },
        {
          "output_type": "stream",
          "name": "stdout",
          "text": [
            "                   all        200        220      0.489      0.688      0.559      0.292\n",
            "\n",
            "      Epoch    GPU_mem   box_loss   cls_loss   dfl_loss  Instances       Size\n"
          ]
        },
        {
          "output_type": "stream",
          "name": "stderr",
          "text": [
            "     26/100      2.36G      1.119      1.109       1.54         27        640: 100%|██████████| 13/13 [00:04<00:00,  3.24it/s]\n",
            "                 Class     Images  Instances      Box(P          R      mAP50  mAP50-95): 100%|██████████| 7/7 [00:01<00:00,  5.04it/s]"
          ]
        },
        {
          "output_type": "stream",
          "name": "stdout",
          "text": [
            "                   all        200        220      0.639       0.65      0.637      0.412\n"
          ]
        },
        {
          "output_type": "stream",
          "name": "stderr",
          "text": [
            "\n"
          ]
        },
        {
          "output_type": "stream",
          "name": "stdout",
          "text": [
            "\n",
            "      Epoch    GPU_mem   box_loss   cls_loss   dfl_loss  Instances       Size\n"
          ]
        },
        {
          "output_type": "stream",
          "name": "stderr",
          "text": [
            "     27/100      2.38G      1.128      1.116       1.54         23        640: 100%|██████████| 13/13 [00:03<00:00,  4.11it/s]\n",
            "                 Class     Images  Instances      Box(P          R      mAP50  mAP50-95): 100%|██████████| 7/7 [00:01<00:00,  4.78it/s]"
          ]
        },
        {
          "output_type": "stream",
          "name": "stdout",
          "text": [
            "                   all        200        220      0.597      0.685      0.671       0.42\n"
          ]
        },
        {
          "output_type": "stream",
          "name": "stderr",
          "text": [
            "\n"
          ]
        },
        {
          "output_type": "stream",
          "name": "stdout",
          "text": [
            "\n",
            "      Epoch    GPU_mem   box_loss   cls_loss   dfl_loss  Instances       Size\n"
          ]
        },
        {
          "output_type": "stream",
          "name": "stderr",
          "text": [
            "     28/100      2.36G      1.093      1.087       1.53         24        640: 100%|██████████| 13/13 [00:04<00:00,  2.64it/s]\n",
            "                 Class     Images  Instances      Box(P          R      mAP50  mAP50-95): 100%|██████████| 7/7 [00:02<00:00,  2.47it/s]\n"
          ]
        },
        {
          "output_type": "stream",
          "name": "stdout",
          "text": [
            "                   all        200        220       0.85      0.823      0.914      0.543\n",
            "\n",
            "      Epoch    GPU_mem   box_loss   cls_loss   dfl_loss  Instances       Size\n"
          ]
        },
        {
          "output_type": "stream",
          "name": "stderr",
          "text": [
            "     29/100      2.36G      1.125      1.111      1.545         15        640: 100%|██████████| 13/13 [00:03<00:00,  3.93it/s]\n",
            "                 Class     Images  Instances      Box(P          R      mAP50  mAP50-95): 100%|██████████| 7/7 [00:01<00:00,  5.19it/s]"
          ]
        },
        {
          "output_type": "stream",
          "name": "stdout",
          "text": [
            "                   all        200        220      0.767      0.755      0.823      0.448\n"
          ]
        },
        {
          "output_type": "stream",
          "name": "stderr",
          "text": [
            "\n"
          ]
        },
        {
          "output_type": "stream",
          "name": "stdout",
          "text": [
            "\n",
            "      Epoch    GPU_mem   box_loss   cls_loss   dfl_loss  Instances       Size\n"
          ]
        },
        {
          "output_type": "stream",
          "name": "stderr",
          "text": [
            "     30/100      2.36G      1.132      1.095       1.52         26        640: 100%|██████████| 13/13 [00:03<00:00,  4.11it/s]\n",
            "                 Class     Images  Instances      Box(P          R      mAP50  mAP50-95): 100%|██████████| 7/7 [00:01<00:00,  3.90it/s]\n"
          ]
        },
        {
          "output_type": "stream",
          "name": "stdout",
          "text": [
            "                   all        200        220      0.813      0.881      0.886      0.565\n",
            "\n",
            "      Epoch    GPU_mem   box_loss   cls_loss   dfl_loss  Instances       Size\n"
          ]
        },
        {
          "output_type": "stream",
          "name": "stderr",
          "text": [
            "     31/100      2.36G      1.063      1.029       1.49         21        640: 100%|██████████| 13/13 [00:05<00:00,  2.37it/s]\n",
            "                 Class     Images  Instances      Box(P          R      mAP50  mAP50-95): 100%|██████████| 7/7 [00:01<00:00,  3.82it/s]"
          ]
        },
        {
          "output_type": "stream",
          "name": "stdout",
          "text": [
            "                   all        200        220      0.848      0.847      0.922       0.61\n"
          ]
        },
        {
          "output_type": "stream",
          "name": "stderr",
          "text": [
            "\n"
          ]
        },
        {
          "output_type": "stream",
          "name": "stdout",
          "text": [
            "\n",
            "      Epoch    GPU_mem   box_loss   cls_loss   dfl_loss  Instances       Size\n"
          ]
        },
        {
          "output_type": "stream",
          "name": "stderr",
          "text": [
            "     32/100      2.36G      1.007      1.025      1.455         21        640: 100%|██████████| 13/13 [00:03<00:00,  3.96it/s]\n",
            "                 Class     Images  Instances      Box(P          R      mAP50  mAP50-95): 100%|██████████| 7/7 [00:01<00:00,  5.17it/s]"
          ]
        },
        {
          "output_type": "stream",
          "name": "stdout",
          "text": [
            "                   all        200        220      0.783      0.851      0.903      0.629\n"
          ]
        },
        {
          "output_type": "stream",
          "name": "stderr",
          "text": [
            "\n"
          ]
        },
        {
          "output_type": "stream",
          "name": "stdout",
          "text": [
            "\n",
            "      Epoch    GPU_mem   box_loss   cls_loss   dfl_loss  Instances       Size\n"
          ]
        },
        {
          "output_type": "stream",
          "name": "stderr",
          "text": [
            "     33/100      2.35G      1.028      1.021      1.477         26        640: 100%|██████████| 13/13 [00:03<00:00,  3.59it/s]\n",
            "                 Class     Images  Instances      Box(P          R      mAP50  mAP50-95): 100%|██████████| 7/7 [00:02<00:00,  3.20it/s]"
          ]
        },
        {
          "output_type": "stream",
          "name": "stdout",
          "text": [
            "                   all        200        220      0.903      0.859      0.941      0.641\n"
          ]
        },
        {
          "output_type": "stream",
          "name": "stderr",
          "text": [
            "\n"
          ]
        },
        {
          "output_type": "stream",
          "name": "stdout",
          "text": [
            "\n",
            "      Epoch    GPU_mem   box_loss   cls_loss   dfl_loss  Instances       Size\n"
          ]
        },
        {
          "output_type": "stream",
          "name": "stderr",
          "text": [
            "     34/100      2.37G      1.049      1.015      1.485         22        640: 100%|██████████| 13/13 [00:04<00:00,  2.88it/s]\n",
            "                 Class     Images  Instances      Box(P          R      mAP50  mAP50-95): 100%|██████████| 7/7 [00:01<00:00,  5.00it/s]"
          ]
        },
        {
          "output_type": "stream",
          "name": "stdout",
          "text": [
            "                   all        200        220      0.719      0.822      0.879      0.628\n"
          ]
        },
        {
          "output_type": "stream",
          "name": "stderr",
          "text": [
            "\n"
          ]
        },
        {
          "output_type": "stream",
          "name": "stdout",
          "text": [
            "\n",
            "      Epoch    GPU_mem   box_loss   cls_loss   dfl_loss  Instances       Size\n"
          ]
        },
        {
          "output_type": "stream",
          "name": "stderr",
          "text": [
            "     35/100      2.37G      1.047     0.9972      1.463         28        640: 100%|██████████| 13/13 [00:03<00:00,  4.15it/s]\n",
            "                 Class     Images  Instances      Box(P          R      mAP50  mAP50-95): 100%|██████████| 7/7 [00:01<00:00,  4.87it/s]"
          ]
        },
        {
          "output_type": "stream",
          "name": "stdout",
          "text": [
            "                   all        200        220      0.557      0.452      0.333      0.233\n"
          ]
        },
        {
          "output_type": "stream",
          "name": "stderr",
          "text": [
            "\n"
          ]
        },
        {
          "output_type": "stream",
          "name": "stdout",
          "text": [
            "\n",
            "      Epoch    GPU_mem   box_loss   cls_loss   dfl_loss  Instances       Size\n"
          ]
        },
        {
          "output_type": "stream",
          "name": "stderr",
          "text": [
            "     36/100      2.36G      1.067      0.972      1.449         23        640: 100%|██████████| 13/13 [00:04<00:00,  2.89it/s]\n",
            "                 Class     Images  Instances      Box(P          R      mAP50  mAP50-95): 100%|██████████| 7/7 [00:02<00:00,  2.68it/s]\n"
          ]
        },
        {
          "output_type": "stream",
          "name": "stdout",
          "text": [
            "                   all        200        220      0.696      0.784      0.826      0.533\n",
            "\n",
            "      Epoch    GPU_mem   box_loss   cls_loss   dfl_loss  Instances       Size\n"
          ]
        },
        {
          "output_type": "stream",
          "name": "stderr",
          "text": [
            "     37/100      2.35G      1.114      1.037      1.553         18        640: 100%|██████████| 13/13 [00:03<00:00,  4.02it/s]\n",
            "                 Class     Images  Instances      Box(P          R      mAP50  mAP50-95): 100%|██████████| 7/7 [00:01<00:00,  5.13it/s]"
          ]
        },
        {
          "output_type": "stream",
          "name": "stdout",
          "text": [
            "                   all        200        220      0.768      0.743      0.812      0.514\n"
          ]
        },
        {
          "output_type": "stream",
          "name": "stderr",
          "text": [
            "\n"
          ]
        },
        {
          "output_type": "stream",
          "name": "stdout",
          "text": [
            "\n",
            "      Epoch    GPU_mem   box_loss   cls_loss   dfl_loss  Instances       Size\n"
          ]
        },
        {
          "output_type": "stream",
          "name": "stderr",
          "text": [
            "     38/100      2.36G      1.107      1.006       1.52         20        640: 100%|██████████| 13/13 [00:03<00:00,  4.06it/s]\n",
            "                 Class     Images  Instances      Box(P          R      mAP50  mAP50-95): 100%|██████████| 7/7 [00:01<00:00,  4.17it/s]\n"
          ]
        },
        {
          "output_type": "stream",
          "name": "stdout",
          "text": [
            "                   all        200        220      0.896      0.899      0.957      0.655\n",
            "\n",
            "      Epoch    GPU_mem   box_loss   cls_loss   dfl_loss  Instances       Size\n"
          ]
        },
        {
          "output_type": "stream",
          "name": "stderr",
          "text": [
            "     39/100      2.36G      1.054     0.9528      1.452         29        640: 100%|██████████| 13/13 [00:05<00:00,  2.39it/s]\n",
            "                 Class     Images  Instances      Box(P          R      mAP50  mAP50-95): 100%|██████████| 7/7 [00:01<00:00,  4.25it/s]"
          ]
        },
        {
          "output_type": "stream",
          "name": "stdout",
          "text": [
            "                   all        200        220      0.713      0.749      0.798       0.51\n"
          ]
        },
        {
          "output_type": "stream",
          "name": "stderr",
          "text": [
            "\n"
          ]
        },
        {
          "output_type": "stream",
          "name": "stdout",
          "text": [
            "\n",
            "      Epoch    GPU_mem   box_loss   cls_loss   dfl_loss  Instances       Size\n"
          ]
        },
        {
          "output_type": "stream",
          "name": "stderr",
          "text": [
            "     40/100      2.36G       1.04     0.9343       1.48         20        640: 100%|██████████| 13/13 [00:03<00:00,  4.13it/s]\n",
            "                 Class     Images  Instances      Box(P          R      mAP50  mAP50-95): 100%|██████████| 7/7 [00:01<00:00,  4.97it/s]"
          ]
        },
        {
          "output_type": "stream",
          "name": "stdout",
          "text": [
            "                   all        200        220      0.893      0.814      0.908      0.618\n"
          ]
        },
        {
          "output_type": "stream",
          "name": "stderr",
          "text": [
            "\n"
          ]
        },
        {
          "output_type": "stream",
          "name": "stdout",
          "text": [
            "\n",
            "      Epoch    GPU_mem   box_loss   cls_loss   dfl_loss  Instances       Size\n"
          ]
        },
        {
          "output_type": "stream",
          "name": "stderr",
          "text": [
            "     41/100      2.36G      1.023     0.9921      1.472         25        640: 100%|██████████| 13/13 [00:03<00:00,  3.62it/s]\n",
            "                 Class     Images  Instances      Box(P          R      mAP50  mAP50-95): 100%|██████████| 7/7 [00:02<00:00,  3.28it/s]"
          ]
        },
        {
          "output_type": "stream",
          "name": "stdout",
          "text": [
            "                   all        200        220      0.825      0.787      0.864      0.584\n"
          ]
        },
        {
          "output_type": "stream",
          "name": "stderr",
          "text": [
            "\n"
          ]
        },
        {
          "output_type": "stream",
          "name": "stdout",
          "text": [
            "\n",
            "      Epoch    GPU_mem   box_loss   cls_loss   dfl_loss  Instances       Size\n"
          ]
        },
        {
          "output_type": "stream",
          "name": "stderr",
          "text": [
            "     42/100      2.37G      1.045      1.002      1.481         19        640: 100%|██████████| 13/13 [00:04<00:00,  2.73it/s]\n",
            "                 Class     Images  Instances      Box(P          R      mAP50  mAP50-95): 100%|██████████| 7/7 [00:01<00:00,  4.65it/s]"
          ]
        },
        {
          "output_type": "stream",
          "name": "stdout",
          "text": [
            "                   all        200        220      0.901       0.85       0.93      0.638\n"
          ]
        },
        {
          "output_type": "stream",
          "name": "stderr",
          "text": [
            "\n"
          ]
        },
        {
          "output_type": "stream",
          "name": "stdout",
          "text": [
            "\n",
            "      Epoch    GPU_mem   box_loss   cls_loss   dfl_loss  Instances       Size\n"
          ]
        },
        {
          "output_type": "stream",
          "name": "stderr",
          "text": [
            "     43/100      2.37G      1.028     0.9689      1.451         27        640: 100%|██████████| 13/13 [00:03<00:00,  4.17it/s]\n",
            "                 Class     Images  Instances      Box(P          R      mAP50  mAP50-95): 100%|██████████| 7/7 [00:01<00:00,  4.71it/s]"
          ]
        },
        {
          "output_type": "stream",
          "name": "stdout",
          "text": [
            "                   all        200        220      0.818      0.869      0.919      0.643\n"
          ]
        },
        {
          "output_type": "stream",
          "name": "stderr",
          "text": [
            "\n"
          ]
        },
        {
          "output_type": "stream",
          "name": "stdout",
          "text": [
            "\n",
            "      Epoch    GPU_mem   box_loss   cls_loss   dfl_loss  Instances       Size\n"
          ]
        },
        {
          "output_type": "stream",
          "name": "stderr",
          "text": [
            "     44/100      2.36G     0.9821     0.9454      1.451         24        640: 100%|██████████| 13/13 [00:04<00:00,  3.05it/s]\n",
            "                 Class     Images  Instances      Box(P          R      mAP50  mAP50-95): 100%|██████████| 7/7 [00:02<00:00,  2.67it/s]\n"
          ]
        },
        {
          "output_type": "stream",
          "name": "stdout",
          "text": [
            "                   all        200        220        0.8      0.886      0.911      0.599\n",
            "\n",
            "      Epoch    GPU_mem   box_loss   cls_loss   dfl_loss  Instances       Size\n"
          ]
        },
        {
          "output_type": "stream",
          "name": "stderr",
          "text": [
            "     45/100      2.35G      1.014     0.8907      1.438         25        640: 100%|██████████| 13/13 [00:03<00:00,  3.40it/s]\n",
            "                 Class     Images  Instances      Box(P          R      mAP50  mAP50-95): 100%|██████████| 7/7 [00:01<00:00,  4.97it/s]"
          ]
        },
        {
          "output_type": "stream",
          "name": "stdout",
          "text": [
            "                   all        200        220      0.782      0.779       0.88       0.55\n"
          ]
        },
        {
          "output_type": "stream",
          "name": "stderr",
          "text": [
            "\n"
          ]
        },
        {
          "output_type": "stream",
          "name": "stdout",
          "text": [
            "\n",
            "      Epoch    GPU_mem   box_loss   cls_loss   dfl_loss  Instances       Size\n"
          ]
        },
        {
          "output_type": "stream",
          "name": "stderr",
          "text": [
            "     46/100      2.36G     0.9893     0.8486      1.437         25        640: 100%|██████████| 13/13 [00:03<00:00,  4.08it/s]\n",
            "                 Class     Images  Instances      Box(P          R      mAP50  mAP50-95): 100%|██████████| 7/7 [00:01<00:00,  5.04it/s]"
          ]
        },
        {
          "output_type": "stream",
          "name": "stdout",
          "text": [
            "                   all        200        220      0.943      0.903      0.957      0.701\n"
          ]
        },
        {
          "output_type": "stream",
          "name": "stderr",
          "text": [
            "\n"
          ]
        },
        {
          "output_type": "stream",
          "name": "stdout",
          "text": [
            "\n",
            "      Epoch    GPU_mem   box_loss   cls_loss   dfl_loss  Instances       Size\n"
          ]
        },
        {
          "output_type": "stream",
          "name": "stderr",
          "text": [
            "     47/100      2.36G     0.9442     0.8294      1.378         25        640: 100%|██████████| 13/13 [00:04<00:00,  2.68it/s]\n",
            "                 Class     Images  Instances      Box(P          R      mAP50  mAP50-95): 100%|██████████| 7/7 [00:02<00:00,  2.50it/s]\n"
          ]
        },
        {
          "output_type": "stream",
          "name": "stdout",
          "text": [
            "                   all        200        220      0.927       0.93      0.975      0.727\n",
            "\n",
            "      Epoch    GPU_mem   box_loss   cls_loss   dfl_loss  Instances       Size\n"
          ]
        },
        {
          "output_type": "stream",
          "name": "stderr",
          "text": [
            "     48/100      2.37G     0.9694     0.8495      1.413         25        640: 100%|██████████| 13/13 [00:05<00:00,  2.47it/s]\n",
            "                 Class     Images  Instances      Box(P          R      mAP50  mAP50-95): 100%|██████████| 7/7 [00:02<00:00,  3.33it/s]"
          ]
        },
        {
          "output_type": "stream",
          "name": "stdout",
          "text": [
            "                   all        200        220      0.979      0.971      0.991      0.756\n"
          ]
        },
        {
          "output_type": "stream",
          "name": "stderr",
          "text": [
            "\n"
          ]
        },
        {
          "output_type": "stream",
          "name": "stdout",
          "text": [
            "\n",
            "      Epoch    GPU_mem   box_loss   cls_loss   dfl_loss  Instances       Size\n"
          ]
        },
        {
          "output_type": "stream",
          "name": "stderr",
          "text": [
            "     49/100      2.35G     0.9837     0.8045      1.397         25        640: 100%|██████████| 13/13 [00:03<00:00,  3.34it/s]\n",
            "                 Class     Images  Instances      Box(P          R      mAP50  mAP50-95): 100%|██████████| 7/7 [00:02<00:00,  3.04it/s]\n"
          ]
        },
        {
          "output_type": "stream",
          "name": "stdout",
          "text": [
            "                   all        200        220      0.931      0.959      0.985      0.738\n",
            "\n",
            "      Epoch    GPU_mem   box_loss   cls_loss   dfl_loss  Instances       Size\n"
          ]
        },
        {
          "output_type": "stream",
          "name": "stderr",
          "text": [
            "     50/100      2.36G       1.02     0.8552      1.462         19        640: 100%|██████████| 13/13 [00:03<00:00,  4.07it/s]\n",
            "                 Class     Images  Instances      Box(P          R      mAP50  mAP50-95): 100%|██████████| 7/7 [00:01<00:00,  4.81it/s]"
          ]
        },
        {
          "output_type": "stream",
          "name": "stdout",
          "text": [
            "                   all        200        220      0.947      0.964      0.987       0.74\n"
          ]
        },
        {
          "output_type": "stream",
          "name": "stderr",
          "text": [
            "\n"
          ]
        },
        {
          "output_type": "stream",
          "name": "stdout",
          "text": [
            "\n",
            "      Epoch    GPU_mem   box_loss   cls_loss   dfl_loss  Instances       Size\n"
          ]
        },
        {
          "output_type": "stream",
          "name": "stderr",
          "text": [
            "     51/100      2.38G     0.9267     0.7974      1.383         14        640: 100%|██████████| 13/13 [00:03<00:00,  4.10it/s]\n",
            "                 Class     Images  Instances      Box(P          R      mAP50  mAP50-95): 100%|██████████| 7/7 [00:01<00:00,  5.22it/s]"
          ]
        },
        {
          "output_type": "stream",
          "name": "stdout",
          "text": [
            "                   all        200        220      0.965      0.971       0.99      0.779\n"
          ]
        },
        {
          "output_type": "stream",
          "name": "stderr",
          "text": [
            "\n"
          ]
        },
        {
          "output_type": "stream",
          "name": "stdout",
          "text": [
            "\n",
            "      Epoch    GPU_mem   box_loss   cls_loss   dfl_loss  Instances       Size\n"
          ]
        },
        {
          "output_type": "stream",
          "name": "stderr",
          "text": [
            "     52/100      2.37G     0.9229     0.7933      1.357         23        640: 100%|██████████| 13/13 [00:05<00:00,  2.51it/s]\n",
            "                 Class     Images  Instances      Box(P          R      mAP50  mAP50-95): 100%|██████████| 7/7 [00:02<00:00,  3.04it/s]"
          ]
        },
        {
          "output_type": "stream",
          "name": "stdout",
          "text": [
            "                   all        200        220      0.956       0.94      0.983      0.745\n"
          ]
        },
        {
          "output_type": "stream",
          "name": "stderr",
          "text": [
            "\n"
          ]
        },
        {
          "output_type": "stream",
          "name": "stdout",
          "text": [
            "\n",
            "      Epoch    GPU_mem   box_loss   cls_loss   dfl_loss  Instances       Size\n"
          ]
        },
        {
          "output_type": "stream",
          "name": "stderr",
          "text": [
            "     53/100      2.35G     0.9588     0.8131      1.427         16        640: 100%|██████████| 13/13 [00:03<00:00,  4.04it/s]\n",
            "                 Class     Images  Instances      Box(P          R      mAP50  mAP50-95): 100%|██████████| 7/7 [00:01<00:00,  5.09it/s]"
          ]
        },
        {
          "output_type": "stream",
          "name": "stdout",
          "text": [
            "                   all        200        220      0.985      0.936      0.979       0.76\n"
          ]
        },
        {
          "output_type": "stream",
          "name": "stderr",
          "text": [
            "\n"
          ]
        },
        {
          "output_type": "stream",
          "name": "stdout",
          "text": [
            "\n",
            "      Epoch    GPU_mem   box_loss   cls_loss   dfl_loss  Instances       Size\n"
          ]
        },
        {
          "output_type": "stream",
          "name": "stderr",
          "text": [
            "     54/100      2.37G     0.9587     0.8203      1.398         22        640: 100%|██████████| 13/13 [00:03<00:00,  3.97it/s]\n",
            "                 Class     Images  Instances      Box(P          R      mAP50  mAP50-95): 100%|██████████| 7/7 [00:02<00:00,  3.31it/s]"
          ]
        },
        {
          "output_type": "stream",
          "name": "stdout",
          "text": [
            "                   all        200        220      0.956      0.891      0.976      0.752\n"
          ]
        },
        {
          "output_type": "stream",
          "name": "stderr",
          "text": [
            "\n"
          ]
        },
        {
          "output_type": "stream",
          "name": "stdout",
          "text": [
            "\n",
            "      Epoch    GPU_mem   box_loss   cls_loss   dfl_loss  Instances       Size\n"
          ]
        },
        {
          "output_type": "stream",
          "name": "stderr",
          "text": [
            "     55/100      2.36G     0.8975     0.7413      1.349         19        640: 100%|██████████| 13/13 [00:04<00:00,  2.83it/s]\n",
            "                 Class     Images  Instances      Box(P          R      mAP50  mAP50-95): 100%|██████████| 7/7 [00:01<00:00,  4.92it/s]"
          ]
        },
        {
          "output_type": "stream",
          "name": "stdout",
          "text": [
            "                   all        200        220      0.951       0.95      0.985      0.742\n"
          ]
        },
        {
          "output_type": "stream",
          "name": "stderr",
          "text": [
            "\n"
          ]
        },
        {
          "output_type": "stream",
          "name": "stdout",
          "text": [
            "\n",
            "      Epoch    GPU_mem   box_loss   cls_loss   dfl_loss  Instances       Size\n"
          ]
        },
        {
          "output_type": "stream",
          "name": "stderr",
          "text": [
            "     56/100      2.36G     0.8957     0.7474      1.344         24        640: 100%|██████████| 13/13 [00:03<00:00,  4.07it/s]\n",
            "                 Class     Images  Instances      Box(P          R      mAP50  mAP50-95): 100%|██████████| 7/7 [00:01<00:00,  5.30it/s]"
          ]
        },
        {
          "output_type": "stream",
          "name": "stdout",
          "text": [
            "                   all        200        220       0.97      0.956      0.987      0.768\n"
          ]
        },
        {
          "output_type": "stream",
          "name": "stderr",
          "text": [
            "\n"
          ]
        },
        {
          "output_type": "stream",
          "name": "stdout",
          "text": [
            "\n",
            "      Epoch    GPU_mem   box_loss   cls_loss   dfl_loss  Instances       Size\n"
          ]
        },
        {
          "output_type": "stream",
          "name": "stderr",
          "text": [
            "     57/100      2.35G     0.9108     0.7233      1.365         33        640: 100%|██████████| 13/13 [00:04<00:00,  3.17it/s]\n",
            "                 Class     Images  Instances      Box(P          R      mAP50  mAP50-95): 100%|██████████| 7/7 [00:02<00:00,  2.90it/s]"
          ]
        },
        {
          "output_type": "stream",
          "name": "stdout",
          "text": [
            "                   all        200        220      0.948      0.912      0.981      0.774\n"
          ]
        },
        {
          "output_type": "stream",
          "name": "stderr",
          "text": [
            "\n"
          ]
        },
        {
          "output_type": "stream",
          "name": "stdout",
          "text": [
            "\n",
            "      Epoch    GPU_mem   box_loss   cls_loss   dfl_loss  Instances       Size\n"
          ]
        },
        {
          "output_type": "stream",
          "name": "stderr",
          "text": [
            "     58/100      2.36G     0.8926     0.7682      1.375         20        640: 100%|██████████| 13/13 [00:03<00:00,  4.07it/s]\n",
            "                 Class     Images  Instances      Box(P          R      mAP50  mAP50-95): 100%|██████████| 7/7 [00:01<00:00,  5.18it/s]"
          ]
        },
        {
          "output_type": "stream",
          "name": "stdout",
          "text": [
            "                   all        200        220      0.889      0.918      0.972       0.76\n"
          ]
        },
        {
          "output_type": "stream",
          "name": "stderr",
          "text": [
            "\n"
          ]
        },
        {
          "output_type": "stream",
          "name": "stdout",
          "text": [
            "\n",
            "      Epoch    GPU_mem   box_loss   cls_loss   dfl_loss  Instances       Size\n"
          ]
        },
        {
          "output_type": "stream",
          "name": "stderr",
          "text": [
            "     59/100      2.36G     0.8752     0.7321      1.328         17        640: 100%|██████████| 13/13 [00:03<00:00,  4.17it/s]\n",
            "                 Class     Images  Instances      Box(P          R      mAP50  mAP50-95): 100%|██████████| 7/7 [00:01<00:00,  5.03it/s]"
          ]
        },
        {
          "output_type": "stream",
          "name": "stdout",
          "text": [
            "                   all        200        220      0.932      0.956      0.984      0.791\n"
          ]
        },
        {
          "output_type": "stream",
          "name": "stderr",
          "text": [
            "\n"
          ]
        },
        {
          "output_type": "stream",
          "name": "stdout",
          "text": [
            "\n",
            "      Epoch    GPU_mem   box_loss   cls_loss   dfl_loss  Instances       Size\n"
          ]
        },
        {
          "output_type": "stream",
          "name": "stderr",
          "text": [
            "     60/100      2.36G     0.8972     0.7406      1.352         24        640: 100%|██████████| 13/13 [00:05<00:00,  2.38it/s]\n",
            "                 Class     Images  Instances      Box(P          R      mAP50  mAP50-95): 100%|██████████| 7/7 [00:01<00:00,  3.81it/s]"
          ]
        },
        {
          "output_type": "stream",
          "name": "stdout",
          "text": [
            "                   all        200        220      0.985      0.976      0.993      0.783\n"
          ]
        },
        {
          "output_type": "stream",
          "name": "stderr",
          "text": [
            "\n"
          ]
        },
        {
          "output_type": "stream",
          "name": "stdout",
          "text": [
            "\n",
            "      Epoch    GPU_mem   box_loss   cls_loss   dfl_loss  Instances       Size\n"
          ]
        },
        {
          "output_type": "stream",
          "name": "stderr",
          "text": [
            "     61/100      2.37G     0.8515     0.7051       1.34         18        640: 100%|██████████| 13/13 [00:03<00:00,  4.00it/s]\n",
            "                 Class     Images  Instances      Box(P          R      mAP50  mAP50-95): 100%|██████████| 7/7 [00:01<00:00,  4.98it/s]"
          ]
        },
        {
          "output_type": "stream",
          "name": "stdout",
          "text": [
            "                   all        200        220      0.989      0.978      0.994      0.812\n"
          ]
        },
        {
          "output_type": "stream",
          "name": "stderr",
          "text": [
            "\n"
          ]
        },
        {
          "output_type": "stream",
          "name": "stdout",
          "text": [
            "\n",
            "      Epoch    GPU_mem   box_loss   cls_loss   dfl_loss  Instances       Size\n"
          ]
        },
        {
          "output_type": "stream",
          "name": "stderr",
          "text": [
            "     62/100      2.36G     0.8774       0.78      1.348         24        640: 100%|██████████| 13/13 [00:03<00:00,  3.50it/s]\n",
            "                 Class     Images  Instances      Box(P          R      mAP50  mAP50-95): 100%|██████████| 7/7 [00:02<00:00,  2.95it/s]"
          ]
        },
        {
          "output_type": "stream",
          "name": "stdout",
          "text": [
            "                   all        200        220      0.985      0.967      0.989      0.802\n"
          ]
        },
        {
          "output_type": "stream",
          "name": "stderr",
          "text": [
            "\n"
          ]
        },
        {
          "output_type": "stream",
          "name": "stdout",
          "text": [
            "\n",
            "      Epoch    GPU_mem   box_loss   cls_loss   dfl_loss  Instances       Size\n"
          ]
        },
        {
          "output_type": "stream",
          "name": "stderr",
          "text": [
            "     63/100      2.36G     0.8859     0.7375      1.331         24        640: 100%|██████████| 13/13 [00:04<00:00,  3.14it/s]\n",
            "                 Class     Images  Instances      Box(P          R      mAP50  mAP50-95): 100%|██████████| 7/7 [00:01<00:00,  5.01it/s]"
          ]
        },
        {
          "output_type": "stream",
          "name": "stdout",
          "text": [
            "                   all        200        220      0.972      0.948      0.987      0.797\n"
          ]
        },
        {
          "output_type": "stream",
          "name": "stderr",
          "text": [
            "\n"
          ]
        },
        {
          "output_type": "stream",
          "name": "stdout",
          "text": [
            "\n",
            "      Epoch    GPU_mem   box_loss   cls_loss   dfl_loss  Instances       Size\n"
          ]
        },
        {
          "output_type": "stream",
          "name": "stderr",
          "text": [
            "     64/100      2.36G     0.8553     0.7114      1.332         22        640: 100%|██████████| 13/13 [00:03<00:00,  4.05it/s]\n",
            "                 Class     Images  Instances      Box(P          R      mAP50  mAP50-95): 100%|██████████| 7/7 [00:01<00:00,  4.89it/s]"
          ]
        },
        {
          "output_type": "stream",
          "name": "stdout",
          "text": [
            "                   all        200        220      0.957      0.964      0.986      0.789\n"
          ]
        },
        {
          "output_type": "stream",
          "name": "stderr",
          "text": [
            "\n"
          ]
        },
        {
          "output_type": "stream",
          "name": "stdout",
          "text": [
            "\n",
            "      Epoch    GPU_mem   box_loss   cls_loss   dfl_loss  Instances       Size\n"
          ]
        },
        {
          "output_type": "stream",
          "name": "stderr",
          "text": [
            "     65/100      2.35G     0.8971     0.7586      1.366         21        640: 100%|██████████| 13/13 [00:04<00:00,  2.79it/s]\n",
            "                 Class     Images  Instances      Box(P          R      mAP50  mAP50-95): 100%|██████████| 7/7 [00:02<00:00,  2.69it/s]\n"
          ]
        },
        {
          "output_type": "stream",
          "name": "stdout",
          "text": [
            "                   all        200        220      0.961      0.959      0.988      0.793\n",
            "\n",
            "      Epoch    GPU_mem   box_loss   cls_loss   dfl_loss  Instances       Size\n"
          ]
        },
        {
          "output_type": "stream",
          "name": "stderr",
          "text": [
            "     66/100      2.37G     0.8327     0.7215      1.317         24        640: 100%|██████████| 13/13 [00:03<00:00,  4.15it/s]\n",
            "                 Class     Images  Instances      Box(P          R      mAP50  mAP50-95): 100%|██████████| 7/7 [00:01<00:00,  4.89it/s]"
          ]
        },
        {
          "output_type": "stream",
          "name": "stdout",
          "text": [
            "                   all        200        220      0.983      0.968      0.992      0.799\n"
          ]
        },
        {
          "output_type": "stream",
          "name": "stderr",
          "text": [
            "\n"
          ]
        },
        {
          "output_type": "stream",
          "name": "stdout",
          "text": [
            "\n",
            "      Epoch    GPU_mem   box_loss   cls_loss   dfl_loss  Instances       Size\n"
          ]
        },
        {
          "output_type": "stream",
          "name": "stderr",
          "text": [
            "     67/100      2.37G     0.8059     0.6858      1.285         18        640: 100%|██████████| 13/13 [00:03<00:00,  4.13it/s]\n",
            "                 Class     Images  Instances      Box(P          R      mAP50  mAP50-95): 100%|██████████| 7/7 [00:01<00:00,  4.46it/s]"
          ]
        },
        {
          "output_type": "stream",
          "name": "stdout",
          "text": [
            "                   all        200        220      0.978      0.975      0.993      0.826\n"
          ]
        },
        {
          "output_type": "stream",
          "name": "stderr",
          "text": [
            "\n"
          ]
        },
        {
          "output_type": "stream",
          "name": "stdout",
          "text": [
            "\n",
            "      Epoch    GPU_mem   box_loss   cls_loss   dfl_loss  Instances       Size\n"
          ]
        },
        {
          "output_type": "stream",
          "name": "stderr",
          "text": [
            "     68/100      2.37G     0.8055     0.6547      1.274         26        640: 100%|██████████| 13/13 [00:05<00:00,  2.49it/s]\n",
            "                 Class     Images  Instances      Box(P          R      mAP50  mAP50-95): 100%|██████████| 7/7 [00:01<00:00,  3.91it/s]"
          ]
        },
        {
          "output_type": "stream",
          "name": "stdout",
          "text": [
            "                   all        200        220      0.983      0.973      0.994      0.824\n"
          ]
        },
        {
          "output_type": "stream",
          "name": "stderr",
          "text": [
            "\n"
          ]
        },
        {
          "output_type": "stream",
          "name": "stdout",
          "text": [
            "\n",
            "      Epoch    GPU_mem   box_loss   cls_loss   dfl_loss  Instances       Size\n"
          ]
        },
        {
          "output_type": "stream",
          "name": "stderr",
          "text": [
            "     69/100      2.36G     0.8151     0.6695      1.301         20        640: 100%|██████████| 13/13 [00:03<00:00,  4.14it/s]\n",
            "                 Class     Images  Instances      Box(P          R      mAP50  mAP50-95): 100%|██████████| 7/7 [00:01<00:00,  5.15it/s]"
          ]
        },
        {
          "output_type": "stream",
          "name": "stdout",
          "text": [
            "                   all        200        220      0.981      0.978      0.993      0.818\n"
          ]
        },
        {
          "output_type": "stream",
          "name": "stderr",
          "text": [
            "\n"
          ]
        },
        {
          "output_type": "stream",
          "name": "stdout",
          "text": [
            "\n",
            "      Epoch    GPU_mem   box_loss   cls_loss   dfl_loss  Instances       Size\n"
          ]
        },
        {
          "output_type": "stream",
          "name": "stderr",
          "text": [
            "     70/100      2.36G     0.8671     0.7003      1.342         24        640: 100%|██████████| 13/13 [00:03<00:00,  3.98it/s]\n",
            "                 Class     Images  Instances      Box(P          R      mAP50  mAP50-95): 100%|██████████| 7/7 [00:02<00:00,  3.32it/s]"
          ]
        },
        {
          "output_type": "stream",
          "name": "stdout",
          "text": [
            "                   all        200        220      0.995      0.964      0.993      0.835\n"
          ]
        },
        {
          "output_type": "stream",
          "name": "stderr",
          "text": [
            "\n"
          ]
        },
        {
          "output_type": "stream",
          "name": "stdout",
          "text": [
            "\n",
            "      Epoch    GPU_mem   box_loss   cls_loss   dfl_loss  Instances       Size\n"
          ]
        },
        {
          "output_type": "stream",
          "name": "stderr",
          "text": [
            "     71/100      2.36G     0.7992     0.6771      1.264         25        640: 100%|██████████| 13/13 [00:04<00:00,  2.63it/s]\n",
            "                 Class     Images  Instances      Box(P          R      mAP50  mAP50-95): 100%|██████████| 7/7 [00:01<00:00,  5.08it/s]"
          ]
        },
        {
          "output_type": "stream",
          "name": "stdout",
          "text": [
            "                   all        200        220       0.98      0.977      0.994      0.817\n"
          ]
        },
        {
          "output_type": "stream",
          "name": "stderr",
          "text": [
            "\n"
          ]
        },
        {
          "output_type": "stream",
          "name": "stdout",
          "text": [
            "\n",
            "      Epoch    GPU_mem   box_loss   cls_loss   dfl_loss  Instances       Size\n"
          ]
        },
        {
          "output_type": "stream",
          "name": "stderr",
          "text": [
            "     72/100      2.37G     0.7832     0.6518      1.279         25        640: 100%|██████████| 13/13 [00:03<00:00,  4.14it/s]\n",
            "                 Class     Images  Instances      Box(P          R      mAP50  mAP50-95): 100%|██████████| 7/7 [00:01<00:00,  4.92it/s]"
          ]
        },
        {
          "output_type": "stream",
          "name": "stdout",
          "text": [
            "                   all        200        220      0.994      0.982      0.994       0.84\n"
          ]
        },
        {
          "output_type": "stream",
          "name": "stderr",
          "text": [
            "\n"
          ]
        },
        {
          "output_type": "stream",
          "name": "stdout",
          "text": [
            "\n",
            "      Epoch    GPU_mem   box_loss   cls_loss   dfl_loss  Instances       Size\n"
          ]
        },
        {
          "output_type": "stream",
          "name": "stderr",
          "text": [
            "     73/100      2.36G     0.7898     0.6518      1.277         27        640: 100%|██████████| 13/13 [00:03<00:00,  3.27it/s]\n",
            "                 Class     Images  Instances      Box(P          R      mAP50  mAP50-95): 100%|██████████| 7/7 [00:02<00:00,  3.01it/s]"
          ]
        },
        {
          "output_type": "stream",
          "name": "stdout",
          "text": [
            "                   all        200        220      0.996      0.972      0.995      0.836\n"
          ]
        },
        {
          "output_type": "stream",
          "name": "stderr",
          "text": [
            "\n"
          ]
        },
        {
          "output_type": "stream",
          "name": "stdout",
          "text": [
            "\n",
            "      Epoch    GPU_mem   box_loss   cls_loss   dfl_loss  Instances       Size\n"
          ]
        },
        {
          "output_type": "stream",
          "name": "stderr",
          "text": [
            "     74/100      2.36G     0.8077     0.6661      1.282         26        640: 100%|██████████| 13/13 [00:03<00:00,  4.16it/s]\n",
            "                 Class     Images  Instances      Box(P          R      mAP50  mAP50-95): 100%|██████████| 7/7 [00:01<00:00,  5.04it/s]"
          ]
        },
        {
          "output_type": "stream",
          "name": "stdout",
          "text": [
            "                   all        200        220      0.995      0.976      0.995      0.843\n"
          ]
        },
        {
          "output_type": "stream",
          "name": "stderr",
          "text": [
            "\n"
          ]
        },
        {
          "output_type": "stream",
          "name": "stdout",
          "text": [
            "\n",
            "      Epoch    GPU_mem   box_loss   cls_loss   dfl_loss  Instances       Size\n"
          ]
        },
        {
          "output_type": "stream",
          "name": "stderr",
          "text": [
            "     75/100      2.36G     0.7939      0.642      1.261         25        640: 100%|██████████| 13/13 [00:03<00:00,  4.18it/s]\n",
            "                 Class     Images  Instances      Box(P          R      mAP50  mAP50-95): 100%|██████████| 7/7 [00:01<00:00,  5.14it/s]"
          ]
        },
        {
          "output_type": "stream",
          "name": "stdout",
          "text": [
            "                   all        200        220      0.998      0.978      0.995      0.859\n"
          ]
        },
        {
          "output_type": "stream",
          "name": "stderr",
          "text": [
            "\n"
          ]
        },
        {
          "output_type": "stream",
          "name": "stdout",
          "text": [
            "\n",
            "      Epoch    GPU_mem   box_loss   cls_loss   dfl_loss  Instances       Size\n"
          ]
        },
        {
          "output_type": "stream",
          "name": "stderr",
          "text": [
            "     76/100      2.37G     0.7602     0.6403      1.249         29        640: 100%|██████████| 13/13 [00:05<00:00,  2.60it/s]\n",
            "                 Class     Images  Instances      Box(P          R      mAP50  mAP50-95): 100%|██████████| 7/7 [00:01<00:00,  3.98it/s]"
          ]
        },
        {
          "output_type": "stream",
          "name": "stdout",
          "text": [
            "                   all        200        220      0.998      0.986      0.995      0.857\n"
          ]
        },
        {
          "output_type": "stream",
          "name": "stderr",
          "text": [
            "\n"
          ]
        },
        {
          "output_type": "stream",
          "name": "stdout",
          "text": [
            "\n",
            "      Epoch    GPU_mem   box_loss   cls_loss   dfl_loss  Instances       Size\n"
          ]
        },
        {
          "output_type": "stream",
          "name": "stderr",
          "text": [
            "     77/100      2.35G     0.7556     0.6324      1.261         28        640: 100%|██████████| 13/13 [00:03<00:00,  4.11it/s]\n",
            "                 Class     Images  Instances      Box(P          R      mAP50  mAP50-95): 100%|██████████| 7/7 [00:01<00:00,  5.16it/s]"
          ]
        },
        {
          "output_type": "stream",
          "name": "stdout",
          "text": [
            "                   all        200        220      0.999      0.987      0.995      0.865\n"
          ]
        },
        {
          "output_type": "stream",
          "name": "stderr",
          "text": [
            "\n"
          ]
        },
        {
          "output_type": "stream",
          "name": "stdout",
          "text": [
            "\n",
            "      Epoch    GPU_mem   box_loss   cls_loss   dfl_loss  Instances       Size\n"
          ]
        },
        {
          "output_type": "stream",
          "name": "stderr",
          "text": [
            "     78/100      2.36G     0.7308     0.5945      1.246         24        640: 100%|██████████| 13/13 [00:03<00:00,  3.71it/s]\n",
            "                 Class     Images  Instances      Box(P          R      mAP50  mAP50-95): 100%|██████████| 7/7 [00:02<00:00,  2.85it/s]"
          ]
        },
        {
          "output_type": "stream",
          "name": "stdout",
          "text": [
            "                   all        200        220      0.995      0.981      0.995      0.852\n"
          ]
        },
        {
          "output_type": "stream",
          "name": "stderr",
          "text": [
            "\n"
          ]
        },
        {
          "output_type": "stream",
          "name": "stdout",
          "text": [
            "\n",
            "      Epoch    GPU_mem   box_loss   cls_loss   dfl_loss  Instances       Size\n"
          ]
        },
        {
          "output_type": "stream",
          "name": "stderr",
          "text": [
            "     79/100      2.36G      0.731     0.6143      1.216         22        640: 100%|██████████| 13/13 [00:04<00:00,  3.14it/s]\n",
            "                 Class     Images  Instances      Box(P          R      mAP50  mAP50-95): 100%|██████████| 7/7 [00:01<00:00,  5.32it/s]"
          ]
        },
        {
          "output_type": "stream",
          "name": "stdout",
          "text": [
            "                   all        200        220      0.996      0.982      0.995      0.863\n"
          ]
        },
        {
          "output_type": "stream",
          "name": "stderr",
          "text": [
            "\n"
          ]
        },
        {
          "output_type": "stream",
          "name": "stdout",
          "text": [
            "\n",
            "      Epoch    GPU_mem   box_loss   cls_loss   dfl_loss  Instances       Size\n"
          ]
        },
        {
          "output_type": "stream",
          "name": "stderr",
          "text": [
            "     80/100      2.38G     0.7565     0.6244      1.248         26        640: 100%|██████████| 13/13 [00:03<00:00,  4.00it/s]\n",
            "                 Class     Images  Instances      Box(P          R      mAP50  mAP50-95): 100%|██████████| 7/7 [00:01<00:00,  5.01it/s]"
          ]
        },
        {
          "output_type": "stream",
          "name": "stdout",
          "text": [
            "                   all        200        220      0.998      0.974      0.994      0.851\n"
          ]
        },
        {
          "output_type": "stream",
          "name": "stderr",
          "text": [
            "\n"
          ]
        },
        {
          "output_type": "stream",
          "name": "stdout",
          "text": [
            "\n",
            "      Epoch    GPU_mem   box_loss   cls_loss   dfl_loss  Instances       Size\n"
          ]
        },
        {
          "output_type": "stream",
          "name": "stderr",
          "text": [
            "     81/100      2.35G     0.7448     0.6065      1.262         21        640: 100%|██████████| 13/13 [00:04<00:00,  2.76it/s]\n",
            "                 Class     Images  Instances      Box(P          R      mAP50  mAP50-95): 100%|██████████| 7/7 [00:02<00:00,  3.03it/s]\n"
          ]
        },
        {
          "output_type": "stream",
          "name": "stdout",
          "text": [
            "                   all        200        220      0.992      0.975      0.995       0.85\n",
            "\n",
            "      Epoch    GPU_mem   box_loss   cls_loss   dfl_loss  Instances       Size\n"
          ]
        },
        {
          "output_type": "stream",
          "name": "stderr",
          "text": [
            "     82/100      2.36G     0.7458     0.6331      1.279         25        640: 100%|██████████| 13/13 [00:03<00:00,  4.23it/s]\n",
            "                 Class     Images  Instances      Box(P          R      mAP50  mAP50-95): 100%|██████████| 7/7 [00:01<00:00,  4.58it/s]"
          ]
        },
        {
          "output_type": "stream",
          "name": "stdout",
          "text": [
            "                   all        200        220      0.991      0.974      0.995      0.859\n"
          ]
        },
        {
          "output_type": "stream",
          "name": "stderr",
          "text": [
            "\n"
          ]
        },
        {
          "output_type": "stream",
          "name": "stdout",
          "text": [
            "\n",
            "      Epoch    GPU_mem   box_loss   cls_loss   dfl_loss  Instances       Size\n"
          ]
        },
        {
          "output_type": "stream",
          "name": "stderr",
          "text": [
            "     83/100      2.37G      0.712     0.5895      1.215         28        640: 100%|██████████| 13/13 [00:03<00:00,  4.13it/s]\n",
            "                 Class     Images  Instances      Box(P          R      mAP50  mAP50-95): 100%|██████████| 7/7 [00:01<00:00,  4.57it/s]"
          ]
        },
        {
          "output_type": "stream",
          "name": "stdout",
          "text": [
            "                   all        200        220       0.98      0.986      0.995      0.863\n"
          ]
        },
        {
          "output_type": "stream",
          "name": "stderr",
          "text": [
            "\n"
          ]
        },
        {
          "output_type": "stream",
          "name": "stdout",
          "text": [
            "\n",
            "      Epoch    GPU_mem   box_loss   cls_loss   dfl_loss  Instances       Size\n"
          ]
        },
        {
          "output_type": "stream",
          "name": "stderr",
          "text": [
            "     84/100      2.37G     0.7112     0.6152      1.224         17        640: 100%|██████████| 13/13 [00:05<00:00,  2.52it/s]\n",
            "                 Class     Images  Instances      Box(P          R      mAP50  mAP50-95): 100%|██████████| 7/7 [00:02<00:00,  3.37it/s]"
          ]
        },
        {
          "output_type": "stream",
          "name": "stdout",
          "text": [
            "                   all        200        220      0.992      0.986      0.995       0.87\n"
          ]
        },
        {
          "output_type": "stream",
          "name": "stderr",
          "text": [
            "\n"
          ]
        },
        {
          "output_type": "stream",
          "name": "stdout",
          "text": [
            "\n",
            "      Epoch    GPU_mem   box_loss   cls_loss   dfl_loss  Instances       Size\n"
          ]
        },
        {
          "output_type": "stream",
          "name": "stderr",
          "text": [
            "     85/100      2.35G     0.6791     0.5778      1.192         26        640: 100%|██████████| 13/13 [00:03<00:00,  4.11it/s]\n",
            "                 Class     Images  Instances      Box(P          R      mAP50  mAP50-95): 100%|██████████| 7/7 [00:01<00:00,  5.02it/s]"
          ]
        },
        {
          "output_type": "stream",
          "name": "stdout",
          "text": [
            "                   all        200        220      0.993      0.987      0.994      0.868\n"
          ]
        },
        {
          "output_type": "stream",
          "name": "stderr",
          "text": [
            "\n"
          ]
        },
        {
          "output_type": "stream",
          "name": "stdout",
          "text": [
            "\n",
            "      Epoch    GPU_mem   box_loss   cls_loss   dfl_loss  Instances       Size\n"
          ]
        },
        {
          "output_type": "stream",
          "name": "stderr",
          "text": [
            "     86/100      2.36G     0.6907     0.5543      1.208         23        640: 100%|██████████| 13/13 [00:03<00:00,  3.99it/s]\n",
            "                 Class     Images  Instances      Box(P          R      mAP50  mAP50-95): 100%|██████████| 7/7 [00:02<00:00,  3.24it/s]"
          ]
        },
        {
          "output_type": "stream",
          "name": "stdout",
          "text": [
            "                   all        200        220      0.999      0.979      0.995      0.872\n"
          ]
        },
        {
          "output_type": "stream",
          "name": "stderr",
          "text": [
            "\n"
          ]
        },
        {
          "output_type": "stream",
          "name": "stdout",
          "text": [
            "\n",
            "      Epoch    GPU_mem   box_loss   cls_loss   dfl_loss  Instances       Size\n"
          ]
        },
        {
          "output_type": "stream",
          "name": "stderr",
          "text": [
            "     87/100      2.36G     0.7049     0.5773      1.215         20        640: 100%|██████████| 13/13 [00:04<00:00,  2.73it/s]\n",
            "                 Class     Images  Instances      Box(P          R      mAP50  mAP50-95): 100%|██████████| 7/7 [00:01<00:00,  4.72it/s]"
          ]
        },
        {
          "output_type": "stream",
          "name": "stdout",
          "text": [
            "                   all        200        220      0.999       0.98      0.995      0.878\n"
          ]
        },
        {
          "output_type": "stream",
          "name": "stderr",
          "text": [
            "\n"
          ]
        },
        {
          "output_type": "stream",
          "name": "stdout",
          "text": [
            "\n",
            "      Epoch    GPU_mem   box_loss   cls_loss   dfl_loss  Instances       Size\n"
          ]
        },
        {
          "output_type": "stream",
          "name": "stderr",
          "text": [
            "     88/100      2.36G     0.7509     0.5676      1.243         24        640: 100%|██████████| 13/13 [00:03<00:00,  3.82it/s]\n",
            "                 Class     Images  Instances      Box(P          R      mAP50  mAP50-95): 100%|██████████| 7/7 [00:01<00:00,  4.95it/s]"
          ]
        },
        {
          "output_type": "stream",
          "name": "stdout",
          "text": [
            "                   all        200        220      0.999      0.982      0.995      0.883\n"
          ]
        },
        {
          "output_type": "stream",
          "name": "stderr",
          "text": [
            "\n"
          ]
        },
        {
          "output_type": "stream",
          "name": "stdout",
          "text": [
            "\n",
            "      Epoch    GPU_mem   box_loss   cls_loss   dfl_loss  Instances       Size\n"
          ]
        },
        {
          "output_type": "stream",
          "name": "stderr",
          "text": [
            "     89/100      2.35G     0.6922     0.5432      1.204         34        640: 100%|██████████| 13/13 [00:04<00:00,  2.67it/s]\n",
            "                 Class     Images  Instances      Box(P          R      mAP50  mAP50-95): 100%|██████████| 7/7 [00:02<00:00,  2.58it/s]\n"
          ]
        },
        {
          "output_type": "stream",
          "name": "stdout",
          "text": [
            "                   all        200        220      0.994      0.986      0.995      0.885\n",
            "\n",
            "      Epoch    GPU_mem   box_loss   cls_loss   dfl_loss  Instances       Size\n"
          ]
        },
        {
          "output_type": "stream",
          "name": "stderr",
          "text": [
            "     90/100      2.37G      0.733     0.5652      1.239         22        640: 100%|██████████| 13/13 [00:03<00:00,  4.11it/s]\n",
            "                 Class     Images  Instances      Box(P          R      mAP50  mAP50-95): 100%|██████████| 7/7 [00:01<00:00,  5.27it/s]"
          ]
        },
        {
          "output_type": "stream",
          "name": "stdout",
          "text": [
            "                   all        200        220      0.993       0.99      0.995      0.893\n"
          ]
        },
        {
          "output_type": "stream",
          "name": "stderr",
          "text": [
            "\n"
          ]
        },
        {
          "output_type": "stream",
          "name": "stdout",
          "text": [
            "Closing dataloader mosaic\n",
            "\u001b[34m\u001b[1malbumentations: \u001b[0mBlur(p=0.01, blur_limit=(3, 7)), MedianBlur(p=0.01, blur_limit=(3, 7)), ToGray(p=0.01, num_output_channels=3, method='weighted_average'), CLAHE(p=0.01, clip_limit=(1.0, 4.0), tile_grid_size=(8, 8))\n",
            "\n",
            "      Epoch    GPU_mem   box_loss   cls_loss   dfl_loss  Instances       Size\n"
          ]
        },
        {
          "output_type": "stream",
          "name": "stderr",
          "text": [
            "     91/100      2.43G     0.6136     0.6423      1.263          9        640: 100%|██████████| 13/13 [00:04<00:00,  2.68it/s]\n",
            "                 Class     Images  Instances      Box(P          R      mAP50  mAP50-95): 100%|██████████| 7/7 [00:02<00:00,  2.89it/s]"
          ]
        },
        {
          "output_type": "stream",
          "name": "stdout",
          "text": [
            "                   all        200        220      0.993      0.991      0.995      0.897\n"
          ]
        },
        {
          "output_type": "stream",
          "name": "stderr",
          "text": [
            "\n"
          ]
        },
        {
          "output_type": "stream",
          "name": "stdout",
          "text": [
            "\n",
            "      Epoch    GPU_mem   box_loss   cls_loss   dfl_loss  Instances       Size\n"
          ]
        },
        {
          "output_type": "stream",
          "name": "stderr",
          "text": [
            "     92/100      2.36G      0.599     0.5437       1.24          9        640: 100%|██████████| 13/13 [00:04<00:00,  3.22it/s]\n",
            "                 Class     Images  Instances      Box(P          R      mAP50  mAP50-95): 100%|██████████| 7/7 [00:01<00:00,  4.92it/s]"
          ]
        },
        {
          "output_type": "stream",
          "name": "stdout",
          "text": [
            "                   all        200        220      0.998      0.982      0.995      0.868\n"
          ]
        },
        {
          "output_type": "stream",
          "name": "stderr",
          "text": [
            "\n"
          ]
        },
        {
          "output_type": "stream",
          "name": "stdout",
          "text": [
            "\n",
            "      Epoch    GPU_mem   box_loss   cls_loss   dfl_loss  Instances       Size\n"
          ]
        },
        {
          "output_type": "stream",
          "name": "stderr",
          "text": [
            "     93/100      2.35G     0.5801     0.4791      1.215         10        640: 100%|██████████| 13/13 [00:03<00:00,  4.09it/s]\n",
            "                 Class     Images  Instances      Box(P          R      mAP50  mAP50-95): 100%|██████████| 7/7 [00:01<00:00,  5.15it/s]"
          ]
        },
        {
          "output_type": "stream",
          "name": "stdout",
          "text": [
            "                   all        200        220      0.997      0.986      0.995      0.889\n"
          ]
        },
        {
          "output_type": "stream",
          "name": "stderr",
          "text": [
            "\n"
          ]
        },
        {
          "output_type": "stream",
          "name": "stdout",
          "text": [
            "\n",
            "      Epoch    GPU_mem   box_loss   cls_loss   dfl_loss  Instances       Size\n"
          ]
        },
        {
          "output_type": "stream",
          "name": "stderr",
          "text": [
            "     94/100      2.36G     0.5297     0.4614      1.156          9        640: 100%|██████████| 13/13 [00:04<00:00,  2.77it/s]\n",
            "                 Class     Images  Instances      Box(P          R      mAP50  mAP50-95): 100%|██████████| 7/7 [00:02<00:00,  2.77it/s]\n"
          ]
        },
        {
          "output_type": "stream",
          "name": "stdout",
          "text": [
            "                   all        200        220      0.996      0.991      0.995      0.894\n",
            "\n",
            "      Epoch    GPU_mem   box_loss   cls_loss   dfl_loss  Instances       Size\n"
          ]
        },
        {
          "output_type": "stream",
          "name": "stderr",
          "text": [
            "     95/100      2.36G     0.4927     0.4442      1.137          8        640: 100%|██████████| 13/13 [00:03<00:00,  4.13it/s]\n",
            "                 Class     Images  Instances      Box(P          R      mAP50  mAP50-95): 100%|██████████| 7/7 [00:01<00:00,  4.93it/s]"
          ]
        },
        {
          "output_type": "stream",
          "name": "stdout",
          "text": [
            "                   all        200        220      0.998      0.986      0.995      0.899\n"
          ]
        },
        {
          "output_type": "stream",
          "name": "stderr",
          "text": [
            "\n"
          ]
        },
        {
          "output_type": "stream",
          "name": "stdout",
          "text": [
            "\n",
            "      Epoch    GPU_mem   box_loss   cls_loss   dfl_loss  Instances       Size\n"
          ]
        },
        {
          "output_type": "stream",
          "name": "stderr",
          "text": [
            "     96/100      2.36G     0.5203     0.4405      1.191          8        640: 100%|██████████| 13/13 [00:03<00:00,  4.20it/s]\n",
            "                 Class     Images  Instances      Box(P          R      mAP50  mAP50-95): 100%|██████████| 7/7 [00:01<00:00,  5.19it/s]"
          ]
        },
        {
          "output_type": "stream",
          "name": "stdout",
          "text": [
            "                   all        200        220      0.998      0.986      0.995      0.899\n"
          ]
        },
        {
          "output_type": "stream",
          "name": "stderr",
          "text": [
            "\n"
          ]
        },
        {
          "output_type": "stream",
          "name": "stdout",
          "text": [
            "\n",
            "      Epoch    GPU_mem   box_loss   cls_loss   dfl_loss  Instances       Size\n"
          ]
        },
        {
          "output_type": "stream",
          "name": "stderr",
          "text": [
            "     97/100      2.35G     0.4997     0.4325      1.175          8        640: 100%|██████████| 13/13 [00:05<00:00,  2.54it/s]\n",
            "                 Class     Images  Instances      Box(P          R      mAP50  mAP50-95): 100%|██████████| 7/7 [00:02<00:00,  3.19it/s]"
          ]
        },
        {
          "output_type": "stream",
          "name": "stdout",
          "text": [
            "                   all        200        220      0.998      0.986      0.995      0.905\n"
          ]
        },
        {
          "output_type": "stream",
          "name": "stderr",
          "text": [
            "\n"
          ]
        },
        {
          "output_type": "stream",
          "name": "stdout",
          "text": [
            "\n",
            "      Epoch    GPU_mem   box_loss   cls_loss   dfl_loss  Instances       Size\n"
          ]
        },
        {
          "output_type": "stream",
          "name": "stderr",
          "text": [
            "     98/100      2.36G     0.5041     0.3958      1.187          8        640: 100%|██████████| 13/13 [00:03<00:00,  4.17it/s]\n",
            "                 Class     Images  Instances      Box(P          R      mAP50  mAP50-95): 100%|██████████| 7/7 [00:01<00:00,  5.07it/s]"
          ]
        },
        {
          "output_type": "stream",
          "name": "stdout",
          "text": [
            "                   all        200        220      0.998      0.986      0.995      0.908\n"
          ]
        },
        {
          "output_type": "stream",
          "name": "stderr",
          "text": [
            "\n"
          ]
        },
        {
          "output_type": "stream",
          "name": "stdout",
          "text": [
            "\n",
            "      Epoch    GPU_mem   box_loss   cls_loss   dfl_loss  Instances       Size\n"
          ]
        },
        {
          "output_type": "stream",
          "name": "stderr",
          "text": [
            "     99/100      2.36G     0.5143       0.43      1.195          8        640: 100%|██████████| 13/13 [00:04<00:00,  2.92it/s]\n",
            "                 Class     Images  Instances      Box(P          R      mAP50  mAP50-95): 100%|██████████| 7/7 [00:02<00:00,  2.55it/s]\n"
          ]
        },
        {
          "output_type": "stream",
          "name": "stdout",
          "text": [
            "                   all        200        220      0.998      0.986      0.995      0.912\n",
            "\n",
            "      Epoch    GPU_mem   box_loss   cls_loss   dfl_loss  Instances       Size\n"
          ]
        },
        {
          "output_type": "stream",
          "name": "stderr",
          "text": [
            "    100/100      2.36G     0.5046     0.4058      1.167          8        640: 100%|██████████| 13/13 [00:05<00:00,  2.28it/s]\n",
            "                 Class     Images  Instances      Box(P          R      mAP50  mAP50-95): 100%|██████████| 7/7 [00:01<00:00,  4.38it/s]"
          ]
        },
        {
          "output_type": "stream",
          "name": "stdout",
          "text": [
            "                   all        200        220      0.998      0.986      0.995      0.913\n"
          ]
        },
        {
          "output_type": "stream",
          "name": "stderr",
          "text": [
            "\n"
          ]
        },
        {
          "output_type": "stream",
          "name": "stdout",
          "text": [
            "\n",
            "100 epochs completed in 0.186 hours.\n",
            "Optimizer stripped from runs/detect/train3/weights/last.pt, 5.5MB\n",
            "Optimizer stripped from runs/detect/train3/weights/best.pt, 5.5MB\n",
            "\n",
            "Validating runs/detect/train3/weights/best.pt...\n",
            "Ultralytics 8.3.48 🚀 Python-3.10.12 torch-2.5.1+cu121 CUDA:0 (Tesla T4, 15102MiB)\n",
            "YOLO11n summary (fused): 238 layers, 2,582,542 parameters, 0 gradients, 6.3 GFLOPs\n"
          ]
        },
        {
          "output_type": "stream",
          "name": "stderr",
          "text": [
            "                 Class     Images  Instances      Box(P          R      mAP50  mAP50-95): 100%|██████████| 7/7 [00:02<00:00,  2.66it/s]\n"
          ]
        },
        {
          "output_type": "stream",
          "name": "stdout",
          "text": [
            "                   all        200        220      0.998      0.986      0.995      0.912\n",
            "                   cat         99        116          1      0.981      0.995       0.91\n",
            "                   dog        101        104      0.997       0.99      0.995      0.915\n",
            "Speed: 0.3ms preprocess, 3.1ms inference, 0.0ms loss, 2.7ms postprocess per image\n",
            "Results saved to \u001b[1mruns/detect/train3\u001b[0m\n",
            "Ultralytics 8.3.48 🚀 Python-3.10.12 torch-2.5.1+cu121 CUDA:0 (Tesla T4, 15102MiB)\n",
            "YOLO11n summary (fused): 238 layers, 2,582,542 parameters, 0 gradients, 6.3 GFLOPs\n"
          ]
        },
        {
          "output_type": "stream",
          "name": "stderr",
          "text": [
            "\u001b[34m\u001b[1mval: \u001b[0mScanning /content/train/labels.cache... 200 images, 0 backgrounds, 0 corrupt: 100%|██████████| 200/200 [00:00<?, ?it/s]\n",
            "                 Class     Images  Instances      Box(P          R      mAP50  mAP50-95): 100%|██████████| 13/13 [00:04<00:00,  3.06it/s]\n"
          ]
        },
        {
          "output_type": "stream",
          "name": "stdout",
          "text": [
            "                   all        200        220      0.998      0.986      0.995      0.914\n",
            "                   cat         99        116          1      0.981      0.995      0.911\n",
            "                   dog        101        104      0.997       0.99      0.995      0.917\n",
            "Speed: 0.3ms preprocess, 4.5ms inference, 0.0ms loss, 3.7ms postprocess per image\n",
            "Results saved to \u001b[1mruns/detect/train32\u001b[0m\n",
            "\n",
            "Found https://ultralytics.com/images/bus.jpg locally at bus.jpg\n",
            "image 1/1 /content/bus.jpg: 640x480 (no detections), 16.0ms\n",
            "Speed: 3.8ms preprocess, 16.0ms inference, 0.9ms postprocess per image at shape (1, 3, 640, 480)\n",
            "Ultralytics 8.3.48 🚀 Python-3.10.12 torch-2.5.1+cu121 CPU (Intel Xeon 2.00GHz)\n",
            "\n",
            "\u001b[34m\u001b[1mPyTorch:\u001b[0m starting from 'runs/detect/train3/weights/best.pt' with input shape (1, 3, 640, 640) BCHW and output shape(s) (1, 6, 8400) (5.2 MB)\n",
            "\n",
            "\u001b[34m\u001b[1mONNX:\u001b[0m starting export with onnx 1.17.0 opset 19...\n",
            "\u001b[34m\u001b[1mONNX:\u001b[0m slimming with onnxslim 0.1.43...\n",
            "\u001b[34m\u001b[1mONNX:\u001b[0m export success ✅ 1.4s, saved as 'runs/detect/train3/weights/best.onnx' (10.1 MB)\n",
            "\n",
            "Export complete (1.9s)\n",
            "Results saved to \u001b[1m/content/runs/detect/train3/weights\u001b[0m\n",
            "Predict:         yolo predict task=detect model=runs/detect/train3/weights/best.onnx imgsz=640  \n",
            "Validate:        yolo val task=detect model=runs/detect/train3/weights/best.onnx imgsz=640 data=/content/data.yaml  \n",
            "Visualize:       https://netron.app\n"
          ]
        }
      ]
    },
    {
      "cell_type": "markdown",
      "source": [
        "# 6. Tasks\n",
        "\n",
        "YOLO11 can train, val, predict and export models for the most common tasks in vision AI: [Detect](https://docs.ultralytics.com/tasks/detect/), [Segment](https://docs.ultralytics.com/tasks/segment/), [Classify](https://docs.ultralytics.com/tasks/classify/) and [Pose](https://docs.ultralytics.com/tasks/pose/). See [YOLO11 Tasks Docs](https://docs.ultralytics.com/tasks/) for more information.\n",
        "\n",
        "<br><img width=\"1024\" src=\"https://raw.githubusercontent.com/ultralytics/assets/main/im/banner-tasks.png\">\n"
      ],
      "metadata": {
        "id": "Phm9ccmOKye5"
      }
    },
    {
      "cell_type": "markdown",
      "source": [
        "## 1. Detection\n",
        "\n",
        "YOLO11 _detection_ models have no suffix and are the default YOLO11 models, i.e. `yolo11n.pt` and are pretrained on COCO. See [Detection Docs](https://docs.ultralytics.com/tasks/detect/) for full details.\n"
      ],
      "metadata": {
        "id": "yq26lwpYK1lq"
      }
    },
    {
      "cell_type": "code",
      "source": [
        "# Load YOLO11n, train it on COCO128 for 3 epochs and predict an image with it\n",
        "from ultralytics import YOLO\n",
        "\n",
        "model = YOLO('yolo11n.pt')  # load a pretrained YOLO detection model\n",
        "model.train(data='coco8.yaml', epochs=3)  # train the model\n",
        "model('https://ultralytics.com/images/bus.jpg')  # predict on an image"
      ],
      "metadata": {
        "id": "8Go5qqS9LbC5"
      },
      "execution_count": null,
      "outputs": []
    },
    {
      "cell_type": "markdown",
      "source": [
        "## 2. Segmentation\n",
        "\n",
        "YOLO11 _segmentation_ models use the `-seg` suffix, i.e. `yolo11n-seg.pt` and are pretrained on COCO. See [Segmentation Docs](https://docs.ultralytics.com/tasks/segment/) for full details.\n"
      ],
      "metadata": {
        "id": "7ZW58jUzK66B"
      }
    },
    {
      "cell_type": "code",
      "source": [
        "# Load YOLO11n-seg, train it on COCO128-seg for 3 epochs and predict an image with it\n",
        "from ultralytics import YOLO\n",
        "\n",
        "model = YOLO('yolo11n-seg.pt')  # load a pretrained YOLO segmentation model\n",
        "model.train(data='coco8-seg.yaml', epochs=3)  # train the model\n",
        "model('https://ultralytics.com/images/bus.jpg')  # predict on an image"
      ],
      "metadata": {
        "id": "WFPJIQl_L5HT"
      },
      "execution_count": null,
      "outputs": []
    },
    {
      "cell_type": "markdown",
      "source": [
        "## 3. Classification\n",
        "\n",
        "YOLO11 _classification_ models use the `-cls` suffix, i.e. `yolo11n-cls.pt` and are pretrained on ImageNet. See [Classification Docs](https://docs.ultralytics.com/tasks/classify/) for full details.\n"
      ],
      "metadata": {
        "id": "ax3p94VNK9zR"
      }
    },
    {
      "cell_type": "code",
      "source": [
        "# Load YOLO11n-cls, train it on mnist160 for 3 epochs and predict an image with it\n",
        "from ultralytics import YOLO\n",
        "\n",
        "model = YOLO('yolo11n-cls.pt')  # load a pretrained YOLO classification model\n",
        "model.train(data='mnist160', epochs=3)  # train the model\n",
        "model('https://ultralytics.com/images/bus.jpg')  # predict on an image"
      ],
      "metadata": {
        "id": "5q9Zu6zlL5rS"
      },
      "execution_count": null,
      "outputs": []
    },
    {
      "cell_type": "markdown",
      "source": [
        "## 4. Pose\n",
        "\n",
        "YOLO11 _pose_ models use the `-pose` suffix, i.e. `yolo11n-pose.pt` and are pretrained on COCO Keypoints. See [Pose Docs](https://docs.ultralytics.com/tasks/pose/) for full details."
      ],
      "metadata": {
        "id": "SpIaFLiO11TG"
      }
    },
    {
      "cell_type": "code",
      "source": [
        "# Load YOLO11n-pose, train it on COCO8-pose for 3 epochs and predict an image with it\n",
        "from ultralytics import YOLO\n",
        "\n",
        "model = YOLO('yolo11n-pose.pt')  # load a pretrained YOLO pose model\n",
        "model.train(data='coco8-pose.yaml', epochs=3)  # train the model\n",
        "model('https://ultralytics.com/images/bus.jpg')  # predict on an image"
      ],
      "metadata": {
        "id": "si4aKFNg19vX"
      },
      "execution_count": null,
      "outputs": []
    },
    {
      "cell_type": "markdown",
      "source": [
        "## 4. Oriented Bounding Boxes (OBB)\n",
        "\n",
        "YOLO11 _OBB_ models use the `-obb` suffix, i.e. `yolo11n-obb.pt` and are pretrained on the DOTA dataset. See [OBB Docs](https://docs.ultralytics.com/tasks/obb/) for full details."
      ],
      "metadata": {
        "id": "cf5j_T9-B5F0"
      }
    },
    {
      "cell_type": "code",
      "source": [
        "# Load YOLO11n-obb, train it on DOTA8 for 3 epochs and predict an image with it\n",
        "from ultralytics import YOLO\n",
        "\n",
        "model = YOLO('yolo11n-obb.pt')  # load a pretrained YOLO OBB model\n",
        "model.train(data='dota8.yaml', epochs=3)  # train the model\n",
        "model('https://ultralytics.com/images/boats.jpg')  # predict on an image"
      ],
      "metadata": {
        "id": "IJNKClOOB5YS"
      },
      "execution_count": null,
      "outputs": []
    },
    {
      "cell_type": "markdown",
      "metadata": {
        "id": "IEijrePND_2I"
      },
      "source": [
        "# Appendix\n",
        "\n",
        "Additional content below."
      ]
    },
    {
      "cell_type": "code",
      "source": [
        "# Pip install from source\n",
        "!pip install git+https://github.com/ultralytics/ultralytics@main"
      ],
      "metadata": {
        "id": "pIdE6i8C3LYp"
      },
      "execution_count": null,
      "outputs": []
    },
    {
      "cell_type": "code",
      "source": [
        "# Git clone and run tests on updates branch\n",
        "!git clone https://github.com/ultralytics/ultralytics -b main\n",
        "%pip install -qe ultralytics"
      ],
      "metadata": {
        "id": "uRKlwxSJdhd1"
      },
      "execution_count": null,
      "outputs": []
    },
    {
      "cell_type": "code",
      "source": [
        "# Run tests (Git clone only)\n",
        "!pytest ultralytics/tests"
      ],
      "metadata": {
        "id": "GtPlh7mcCGZX"
      },
      "execution_count": null,
      "outputs": []
    },
    {
      "cell_type": "code",
      "source": [
        "# Validate multiple models\n",
        "for x in 'nsmlx':\n",
        "  !yolo val model=yolo11{x}.pt data=coco.yaml"
      ],
      "metadata": {
        "id": "Wdc6t_bfzDDk"
      },
      "execution_count": null,
      "outputs": []
    }
  ]
}